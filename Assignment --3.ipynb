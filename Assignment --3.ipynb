{
 "cells": [
  {
   "cell_type": "code",
   "execution_count": 7,
   "id": "d9c285f6",
   "metadata": {},
   "outputs": [],
   "source": [
    "import regex as re"
   ]
  },
  {
   "cell_type": "markdown",
   "id": "575a8603",
   "metadata": {},
   "source": [
    "# Question 1"
   ]
  },
  {
   "cell_type": "code",
   "execution_count": 8,
   "id": "8ef0ec09",
   "metadata": {},
   "outputs": [
    {
     "name": "stdout",
     "output_type": "stream",
     "text": [
      "Python:Exercises::PHP:exercises:\n"
     ]
    }
   ],
   "source": [
    "message =\"Python Exercises, PHP exercises.\"\n",
    "\n",
    "x = re.sub('[ .,]', \":\", message)\n",
    "\n",
    "print(x)"
   ]
  },
  {
   "cell_type": "markdown",
   "id": "cd8bb365",
   "metadata": {},
   "source": [
    "# Question 2"
   ]
  },
  {
   "cell_type": "code",
   "execution_count": 3,
   "id": "a122c617",
   "metadata": {},
   "outputs": [],
   "source": [
    "import pandas as pd"
   ]
  },
  {
   "cell_type": "code",
   "execution_count": 25,
   "id": "0c1b8a98",
   "metadata": {},
   "outputs": [
    {
     "data": {
      "text/html": [
       "<div>\n",
       "<style scoped>\n",
       "    .dataframe tbody tr th:only-of-type {\n",
       "        vertical-align: middle;\n",
       "    }\n",
       "\n",
       "    .dataframe tbody tr th {\n",
       "        vertical-align: top;\n",
       "    }\n",
       "\n",
       "    .dataframe thead th {\n",
       "        text-align: right;\n",
       "    }\n",
       "</style>\n",
       "<table border=\"1\" class=\"dataframe\">\n",
       "  <thead>\n",
       "    <tr style=\"text-align: right;\">\n",
       "      <th></th>\n",
       "      <th>SUMMARY</th>\n",
       "    </tr>\n",
       "  </thead>\n",
       "  <tbody>\n",
       "    <tr>\n",
       "      <th>0</th>\n",
       "      <td>hello world</td>\n",
       "    </tr>\n",
       "    <tr>\n",
       "      <th>1</th>\n",
       "      <td>test</td>\n",
       "    </tr>\n",
       "    <tr>\n",
       "      <th>2</th>\n",
       "      <td>four five six</td>\n",
       "    </tr>\n",
       "  </tbody>\n",
       "</table>\n",
       "</div>"
      ],
      "text/plain": [
       "         SUMMARY\n",
       "0    hello world\n",
       "1           test\n",
       "2  four five six"
      ]
     },
     "execution_count": 25,
     "metadata": {},
     "output_type": "execute_result"
    }
   ],
   "source": [
    "d = {'SUMMARY' : ['hello, world!', 'XXXXX test', '123four, five:; six...']}\n",
    "\n",
    "df = pd.DataFrame(d)\n",
    "\n",
    "df['SUMMARY'] = df['SUMMARY'].apply(lambda x: re.sub('[0-9,.!:;X]','',x))\n",
    "    \n",
    "df"
   ]
  },
  {
   "cell_type": "markdown",
   "id": "78af40e1",
   "metadata": {},
   "source": [
    "# Question 3"
   ]
  },
  {
   "cell_type": "code",
   "execution_count": 130,
   "id": "c5b1534a",
   "metadata": {},
   "outputs": [
    {
     "name": "stdout",
     "output_type": "stream",
     "text": [
      "['acbe', 'befd', 'sekd', 'fkee']\n"
     ]
    }
   ],
   "source": [
    "def findFour(message):\n",
    "    pattern = re.compile(r'\\b\\w{4}\\b')\n",
    "    x = pattern.findall(message)\n",
    "    return x\n",
    "\n",
    "m = \"adc acbe befd sekd ekc fkee ltv\"\n",
    "print(findFour(m))"
   ]
  },
  {
   "cell_type": "markdown",
   "id": "8f3d1bc8",
   "metadata": {},
   "source": [
    "# Question 4"
   ]
  },
  {
   "cell_type": "code",
   "execution_count": 347,
   "id": "180549da",
   "metadata": {},
   "outputs": [
    {
     "name": "stdout",
     "output_type": "stream",
     "text": [
      "['adc', 'acbe', 'befd', 'sekds', 'ekc', 'fkee']\n"
     ]
    }
   ],
   "source": [
    "def word(message):\n",
    "    pattern = re.compile(r'\\b\\w{3,5}\\b')\n",
    "    x = pattern.findall(message)\n",
    "    return x\n",
    "\n",
    "m = \"adc acbe befd sekds ekc fkee ltvtes\"\n",
    "print(word(m))"
   ]
  },
  {
   "cell_type": "markdown",
   "id": "18d3cc7b",
   "metadata": {},
   "source": [
    "# Question 5"
   ]
  },
  {
   "cell_type": "code",
   "execution_count": 138,
   "id": "b6be2331",
   "metadata": {},
   "outputs": [
    {
     "name": "stdout",
     "output_type": "stream",
     "text": [
      "['example .com', 'hr@fliprobo .com', 'github .com', 'Hello Data Science World', 'Data Scientist']\n"
     ]
    }
   ],
   "source": [
    "def rempar(st):\n",
    "    pattern = re.compile(r'[()]')\n",
    "    for i in range(len(st)):\n",
    "        x = pattern.sub('',st[i])\n",
    "        st[i] = x\n",
    "    return st\n",
    "        \n",
    "    \n",
    "SampleText = [\"example (.com)\", \"hr@fliprobo (.com)\", \"github (.com)\", \"Hello (Data Science World)\", \"Data (Scientist)\"]\n",
    "print(rempar(SampleText))"
   ]
  },
  {
   "cell_type": "markdown",
   "id": "8b6ddb3a",
   "metadata": {},
   "source": [
    "# Question 6 "
   ]
  },
  {
   "cell_type": "code",
   "execution_count": 348,
   "id": "1db330a2",
   "metadata": {},
   "outputs": [],
   "source": [
    "f = open(\"Sample Text.txt\")"
   ]
  },
  {
   "cell_type": "code",
   "execution_count": 349,
   "id": "f8bbf8b5",
   "metadata": {},
   "outputs": [],
   "source": [
    "l = f.read()"
   ]
  },
  {
   "cell_type": "code",
   "execution_count": 350,
   "id": "effe1c7c",
   "metadata": {},
   "outputs": [
    {
     "name": "stdout",
     "output_type": "stream",
     "text": [
      "\"example (.com)\", \"hr@fliprobo (.com)\", \"github (.com)\", \"Hello (Data Science World)\", \"Data (Scientist)\"\n"
     ]
    }
   ],
   "source": [
    "print(l)\n",
    "l = l.split(\",\")"
   ]
  },
  {
   "cell_type": "code",
   "execution_count": 352,
   "id": "4c3e3069",
   "metadata": {},
   "outputs": [
    {
     "name": "stdout",
     "output_type": "stream",
     "text": [
      "\"example\"\n",
      " \"hr@fliprobo\"\n",
      " \"github\"\n",
      " \"Hello\"\n",
      " \"Data\"\n"
     ]
    }
   ],
   "source": [
    "for i in l:\n",
    "    x = re.sub(r' ?\\([^)]+\\)','',i)\n",
    "    print(x)"
   ]
  },
  {
   "cell_type": "code",
   "execution_count": 353,
   "id": "c86410cc",
   "metadata": {},
   "outputs": [],
   "source": [
    "f.close()"
   ]
  },
  {
   "cell_type": "markdown",
   "id": "54f2c6e8",
   "metadata": {},
   "source": [
    "# Question 7"
   ]
  },
  {
   "cell_type": "code",
   "execution_count": 118,
   "id": "76e4ef3b",
   "metadata": {},
   "outputs": [
    {
     "name": "stdout",
     "output_type": "stream",
     "text": [
      "['Importance', 'Of', 'Regular', 'Expressions', 'In', 'Python']\n"
     ]
    }
   ],
   "source": [
    "message = \"ImportanceOfRegularExpressionsInPython\"\n",
    "\n",
    "x = re.findall('[A-Z][^A-Z]*',message)\n",
    "\n",
    "print(x)"
   ]
  },
  {
   "cell_type": "markdown",
   "id": "df5f4fcb",
   "metadata": {},
   "source": [
    "# Question 8 "
   ]
  },
  {
   "cell_type": "code",
   "execution_count": 139,
   "id": "07961474",
   "metadata": {},
   "outputs": [
    {
     "name": "stdout",
     "output_type": "stream",
     "text": [
      "RegularExpression 1IsAn 2ImportantTopic 3InPython\n"
     ]
    }
   ],
   "source": [
    "def seperate(s):\n",
    "    x = re.sub(r'(\\d+)([A-Za-z]+)',r' \\1\\2',s)\n",
    "    return x\n",
    "\n",
    "message = \"RegularExpression1IsAn2ImportantTopic3InPython\"\n",
    "print(seperate(message))"
   ]
  },
  {
   "cell_type": "markdown",
   "id": "3d095fe4",
   "metadata": {},
   "source": [
    "# Question 9"
   ]
  },
  {
   "cell_type": "code",
   "execution_count": 140,
   "id": "a484353e",
   "metadata": {},
   "outputs": [
    {
     "name": "stdout",
     "output_type": "stream",
     "text": [
      "RegularExpression 1 IsAn 2 ImportantTopic 3 InPython\n"
     ]
    }
   ],
   "source": [
    "def seperate2(s):\n",
    "    x = re.sub(r'(\\d+)([A-Za-z]+)',r' \\1 \\2',s)\n",
    "    return x\n",
    "\n",
    "message = \"RegularExpression1IsAn2ImportantTopic3InPython\"\n",
    "print(seperate2(message))"
   ]
  },
  {
   "cell_type": "markdown",
   "id": "c9de7138",
   "metadata": {},
   "source": [
    "# Question 10"
   ]
  },
  {
   "cell_type": "code",
   "execution_count": 157,
   "id": "0c0efaf7",
   "metadata": {},
   "outputs": [],
   "source": [
    "df = pd.read_csv(\"https://raw.githubusercontent.com/dsrscientist/DSData/master/happiness_score_dataset.csv\")"
   ]
  },
  {
   "cell_type": "code",
   "execution_count": 159,
   "id": "f443bf7a",
   "metadata": {},
   "outputs": [
    {
     "data": {
      "text/plain": [
       "0      Switzerland\n",
       "1          Iceland\n",
       "2          Denmark\n",
       "3           Norway\n",
       "4           Canada\n",
       "          ...     \n",
       "153         Rwanda\n",
       "154          Benin\n",
       "155          Syria\n",
       "156        Burundi\n",
       "157           Togo\n",
       "Name: Country, Length: 158, dtype: object"
      ]
     },
     "execution_count": 159,
     "metadata": {},
     "output_type": "execute_result"
    }
   ],
   "source": [
    "df['Country']"
   ]
  },
  {
   "cell_type": "code",
   "execution_count": 160,
   "id": "04ab1d76",
   "metadata": {},
   "outputs": [],
   "source": [
    "df['first_five_letters'] = df['Country'].apply(lambda x: x[:6])"
   ]
  },
  {
   "cell_type": "code",
   "execution_count": 161,
   "id": "7134b330",
   "metadata": {},
   "outputs": [
    {
     "data": {
      "text/html": [
       "<div>\n",
       "<style scoped>\n",
       "    .dataframe tbody tr th:only-of-type {\n",
       "        vertical-align: middle;\n",
       "    }\n",
       "\n",
       "    .dataframe tbody tr th {\n",
       "        vertical-align: top;\n",
       "    }\n",
       "\n",
       "    .dataframe thead th {\n",
       "        text-align: right;\n",
       "    }\n",
       "</style>\n",
       "<table border=\"1\" class=\"dataframe\">\n",
       "  <thead>\n",
       "    <tr style=\"text-align: right;\">\n",
       "      <th></th>\n",
       "      <th>Country</th>\n",
       "      <th>Region</th>\n",
       "      <th>Happiness Rank</th>\n",
       "      <th>Happiness Score</th>\n",
       "      <th>Standard Error</th>\n",
       "      <th>Economy (GDP per Capita)</th>\n",
       "      <th>Family</th>\n",
       "      <th>Health (Life Expectancy)</th>\n",
       "      <th>Freedom</th>\n",
       "      <th>Trust (Government Corruption)</th>\n",
       "      <th>Generosity</th>\n",
       "      <th>Dystopia Residual</th>\n",
       "      <th>first_five_letters</th>\n",
       "    </tr>\n",
       "  </thead>\n",
       "  <tbody>\n",
       "    <tr>\n",
       "      <th>0</th>\n",
       "      <td>Switzerland</td>\n",
       "      <td>Western Europe</td>\n",
       "      <td>1</td>\n",
       "      <td>7.587</td>\n",
       "      <td>0.03411</td>\n",
       "      <td>1.39651</td>\n",
       "      <td>1.34951</td>\n",
       "      <td>0.94143</td>\n",
       "      <td>0.66557</td>\n",
       "      <td>0.41978</td>\n",
       "      <td>0.29678</td>\n",
       "      <td>2.51738</td>\n",
       "      <td>Switze</td>\n",
       "    </tr>\n",
       "    <tr>\n",
       "      <th>1</th>\n",
       "      <td>Iceland</td>\n",
       "      <td>Western Europe</td>\n",
       "      <td>2</td>\n",
       "      <td>7.561</td>\n",
       "      <td>0.04884</td>\n",
       "      <td>1.30232</td>\n",
       "      <td>1.40223</td>\n",
       "      <td>0.94784</td>\n",
       "      <td>0.62877</td>\n",
       "      <td>0.14145</td>\n",
       "      <td>0.43630</td>\n",
       "      <td>2.70201</td>\n",
       "      <td>Icelan</td>\n",
       "    </tr>\n",
       "    <tr>\n",
       "      <th>2</th>\n",
       "      <td>Denmark</td>\n",
       "      <td>Western Europe</td>\n",
       "      <td>3</td>\n",
       "      <td>7.527</td>\n",
       "      <td>0.03328</td>\n",
       "      <td>1.32548</td>\n",
       "      <td>1.36058</td>\n",
       "      <td>0.87464</td>\n",
       "      <td>0.64938</td>\n",
       "      <td>0.48357</td>\n",
       "      <td>0.34139</td>\n",
       "      <td>2.49204</td>\n",
       "      <td>Denmar</td>\n",
       "    </tr>\n",
       "    <tr>\n",
       "      <th>3</th>\n",
       "      <td>Norway</td>\n",
       "      <td>Western Europe</td>\n",
       "      <td>4</td>\n",
       "      <td>7.522</td>\n",
       "      <td>0.03880</td>\n",
       "      <td>1.45900</td>\n",
       "      <td>1.33095</td>\n",
       "      <td>0.88521</td>\n",
       "      <td>0.66973</td>\n",
       "      <td>0.36503</td>\n",
       "      <td>0.34699</td>\n",
       "      <td>2.46531</td>\n",
       "      <td>Norway</td>\n",
       "    </tr>\n",
       "    <tr>\n",
       "      <th>4</th>\n",
       "      <td>Canada</td>\n",
       "      <td>North America</td>\n",
       "      <td>5</td>\n",
       "      <td>7.427</td>\n",
       "      <td>0.03553</td>\n",
       "      <td>1.32629</td>\n",
       "      <td>1.32261</td>\n",
       "      <td>0.90563</td>\n",
       "      <td>0.63297</td>\n",
       "      <td>0.32957</td>\n",
       "      <td>0.45811</td>\n",
       "      <td>2.45176</td>\n",
       "      <td>Canada</td>\n",
       "    </tr>\n",
       "  </tbody>\n",
       "</table>\n",
       "</div>"
      ],
      "text/plain": [
       "       Country          Region  Happiness Rank  Happiness Score  \\\n",
       "0  Switzerland  Western Europe               1            7.587   \n",
       "1      Iceland  Western Europe               2            7.561   \n",
       "2      Denmark  Western Europe               3            7.527   \n",
       "3       Norway  Western Europe               4            7.522   \n",
       "4       Canada   North America               5            7.427   \n",
       "\n",
       "   Standard Error  Economy (GDP per Capita)   Family  \\\n",
       "0         0.03411                   1.39651  1.34951   \n",
       "1         0.04884                   1.30232  1.40223   \n",
       "2         0.03328                   1.32548  1.36058   \n",
       "3         0.03880                   1.45900  1.33095   \n",
       "4         0.03553                   1.32629  1.32261   \n",
       "\n",
       "   Health (Life Expectancy)  Freedom  Trust (Government Corruption)  \\\n",
       "0                   0.94143  0.66557                        0.41978   \n",
       "1                   0.94784  0.62877                        0.14145   \n",
       "2                   0.87464  0.64938                        0.48357   \n",
       "3                   0.88521  0.66973                        0.36503   \n",
       "4                   0.90563  0.63297                        0.32957   \n",
       "\n",
       "   Generosity  Dystopia Residual first_five_letters  \n",
       "0     0.29678            2.51738             Switze  \n",
       "1     0.43630            2.70201             Icelan  \n",
       "2     0.34139            2.49204             Denmar  \n",
       "3     0.34699            2.46531             Norway  \n",
       "4     0.45811            2.45176             Canada  "
      ]
     },
     "execution_count": 161,
     "metadata": {},
     "output_type": "execute_result"
    }
   ],
   "source": [
    "df.head()"
   ]
  },
  {
   "cell_type": "markdown",
   "id": "ae5866f2",
   "metadata": {},
   "source": [
    "# Question 11"
   ]
  },
  {
   "cell_type": "code",
   "execution_count": 167,
   "id": "d01cf895",
   "metadata": {},
   "outputs": [
    {
     "name": "stdout",
     "output_type": "stream",
     "text": [
      "Its a match\n"
     ]
    }
   ],
   "source": [
    "message = \"RegularExpression1IsAn2ImportantTopic3InPython\"\n",
    "pattern = re.compile(r'^[a-zA-Z0-9_]+$')\n",
    "x = pattern.match(message)\n",
    "if x:\n",
    "    print(\"Its a match\")\n",
    "else:\n",
    "    print(\"the string dosen't match\")"
   ]
  },
  {
   "cell_type": "markdown",
   "id": "19a14ef1",
   "metadata": {},
   "source": [
    "# Question 12"
   ]
  },
  {
   "cell_type": "code",
   "execution_count": 169,
   "id": "b5450457",
   "metadata": {},
   "outputs": [
    {
     "name": "stdout",
     "output_type": "stream",
     "text": [
      "Its a match\n"
     ]
    }
   ],
   "source": [
    "message = \"2RegularExpression1IsAn2ImportantTopic3InPython\"\n",
    "pattern = re.compile(r'^2')\n",
    "x = pattern.match(message)\n",
    "if x:\n",
    "    print(\"Its a match\")\n",
    "else:\n",
    "    print(\"the string dosen't match\")"
   ]
  },
  {
   "cell_type": "markdown",
   "id": "f6256150",
   "metadata": {},
   "source": [
    "# Question 13"
   ]
  },
  {
   "cell_type": "code",
   "execution_count": 172,
   "id": "46066fa3",
   "metadata": {},
   "outputs": [
    {
     "name": "stdout",
     "output_type": "stream",
     "text": [
      "174.52.1.74\n"
     ]
    }
   ],
   "source": [
    "ip = \"174.052.001.074\"\n",
    "x = re.sub('\\.[0]*','.',ip)\n",
    "print(x)"
   ]
  },
  {
   "cell_type": "markdown",
   "id": "cc2a5750",
   "metadata": {},
   "source": [
    "# Question 14"
   ]
  },
  {
   "cell_type": "code",
   "execution_count": 354,
   "id": "ee4d949e",
   "metadata": {},
   "outputs": [],
   "source": [
    "f = open(\"Question 14.txt\")\n",
    "s = f.read()"
   ]
  },
  {
   "cell_type": "code",
   "execution_count": 356,
   "id": "2b1797a2",
   "metadata": {},
   "outputs": [
    {
     "name": "stdout",
     "output_type": "stream",
     "text": [
      "August 15th 1947\n"
     ]
    }
   ],
   "source": [
    "p = r'\\b([A-Za-z]+) \\d{1,2}(?:st|nd|rd|th)? \\d{4}\\b'\n",
    "x = re.search(p,s)\n",
    "\n",
    "print(x.group())"
   ]
  },
  {
   "cell_type": "code",
   "execution_count": 357,
   "id": "21f07030",
   "metadata": {},
   "outputs": [],
   "source": [
    "f.close()"
   ]
  },
  {
   "cell_type": "markdown",
   "id": "9eb225e7",
   "metadata": {},
   "source": [
    "# Question 15"
   ]
  },
  {
   "cell_type": "code",
   "execution_count": 226,
   "id": "d2f72754",
   "metadata": {},
   "outputs": [
    {
     "name": "stdout",
     "output_type": "stream",
     "text": [
      "<regex.Match object; span=(16, 19), match='fox'>\n",
      "<regex.Match object; span=(40, 43), match='dog'>\n",
      "None\n"
     ]
    }
   ],
   "source": [
    "Sampletext = 'The quick brown fox jumps over the lazy dog.'\n",
    "\n",
    "pattern = ['fox', 'dog', 'horse']\n",
    "\n",
    "for i in pattern:\n",
    "    x = re.search(i, Sampletext)\n",
    "    print(x)"
   ]
  },
  {
   "cell_type": "markdown",
   "id": "22cf32d7",
   "metadata": {},
   "source": [
    "# Question 16"
   ]
  },
  {
   "cell_type": "code",
   "execution_count": 231,
   "id": "60ca60e5",
   "metadata": {},
   "outputs": [
    {
     "name": "stdout",
     "output_type": "stream",
     "text": [
      "fox found at location: 16 - 19\n"
     ]
    }
   ],
   "source": [
    "Sampletext = 'The quick brown fox jumps over the lazy dog.'\n",
    "\n",
    "pattern = 'fox'\n",
    "\n",
    "x = re.search(pattern,Sampletext)\n",
    "s=x.start()\n",
    "e=x.end()\n",
    "\n",
    "if x:\n",
    "    print(\"%s found at location: %d - %d\" %(pattern,s,e)) \n",
    "else:\n",
    "    print(\"not found\")"
   ]
  },
  {
   "cell_type": "markdown",
   "id": "07d97137",
   "metadata": {},
   "source": [
    "# Question 17"
   ]
  },
  {
   "cell_type": "code",
   "execution_count": 232,
   "id": "1c9a55d2",
   "metadata": {},
   "outputs": [
    {
     "name": "stdout",
     "output_type": "stream",
     "text": [
      "['exercises', 'exercises', 'exercises']\n"
     ]
    }
   ],
   "source": [
    "Sampletext = 'Python exercises, PHP exercises, C# exercises'\n",
    "Pattern = 'exercises'\n",
    "\n",
    "x = re.findall(Pattern,Sampletext)\n",
    "\n",
    "print(x)"
   ]
  },
  {
   "cell_type": "markdown",
   "id": "b555544a",
   "metadata": {},
   "source": [
    "# Question 18"
   ]
  },
  {
   "cell_type": "code",
   "execution_count": 235,
   "id": "57e78276",
   "metadata": {},
   "outputs": [
    {
     "name": "stdout",
     "output_type": "stream",
     "text": [
      "exercises found at location: 7 - 16\n"
     ]
    }
   ],
   "source": [
    "Sampletext = 'Python exercises, PHP exercises, C# exercises'\n",
    "Pattern = 'exercises'\n",
    "\n",
    "x = re.search(Pattern,Sampletext)\n",
    "s = x.start()\n",
    "e = x.end()\n",
    "\n",
    "if x:\n",
    "    print(\"%s found at location: %d - %d\" %(Pattern,s,e)) \n",
    "else:\n",
    "    print(\"not found\")"
   ]
  },
  {
   "cell_type": "markdown",
   "id": "372216b5",
   "metadata": {},
   "source": [
    "# Question 19"
   ]
  },
  {
   "cell_type": "code",
   "execution_count": 255,
   "id": "8bdaef7a",
   "metadata": {},
   "outputs": [
    {
     "name": "stdout",
     "output_type": "stream",
     "text": [
      "06-04-2024\n"
     ]
    }
   ],
   "source": [
    "Date = \"2024-04-06\"\n",
    "\n",
    "x = re.sub('(\\d{4})-(\\d{1,2})-(\\d{1,2})','\\\\3-\\\\2-\\\\1',Date)\n",
    "\n",
    "print(x)"
   ]
  },
  {
   "cell_type": "markdown",
   "id": "818d44b7",
   "metadata": {},
   "source": [
    "# Question 20"
   ]
  },
  {
   "cell_type": "code",
   "execution_count": 307,
   "id": "2dd9e4b4",
   "metadata": {},
   "outputs": [
    {
     "name": "stdout",
     "output_type": "stream",
     "text": [
      "['01.12', '0132.12', '2.31', '145.8', '3.01', '27.25', '0.25']\n"
     ]
    }
   ],
   "source": [
    "def decimal_num(s):\n",
    "    p = re.compile(r'\\d+\\.\\d{1,2}')\n",
    "    x = p.findall(s)\n",
    "    return x\n",
    "\n",
    "st = \"01.12 0132.123 2.31875 145.8 3.01 27.25 0.25\"\n",
    "print(decimal_num(st))"
   ]
  },
  {
   "cell_type": "markdown",
   "id": "374e4de8",
   "metadata": {},
   "source": [
    "# Question 21"
   ]
  },
  {
   "cell_type": "code",
   "execution_count": 310,
   "id": "698f7285",
   "metadata": {},
   "outputs": [
    {
     "name": "stdout",
     "output_type": "stream",
     "text": [
      "72 found at 10 location\n"
     ]
    }
   ],
   "source": [
    "Sampletext = \"There are 72 apples in the basket\"\n",
    "\n",
    "x = re.search(r'\\d+',Sampletext)\n",
    "\n",
    "print(\"%s found at %d location\" %(x.group(),x.start()))"
   ]
  },
  {
   "cell_type": "markdown",
   "id": "7d702de1",
   "metadata": {},
   "source": [
    "# Question 22"
   ]
  },
  {
   "cell_type": "code",
   "execution_count": 316,
   "id": "e7400b78",
   "metadata": {},
   "outputs": [
    {
     "name": "stdout",
     "output_type": "stream",
     "text": [
      "950\n"
     ]
    }
   ],
   "source": [
    "st = 'My marks in each semester are: 947, 896, 926, 524, 734, 950, 642'\n",
    "\n",
    "x = re.findall(r'\\d+',st)\n",
    "    \n",
    "print(max(x))"
   ]
  },
  {
   "cell_type": "markdown",
   "id": "057f0638",
   "metadata": {},
   "source": [
    "# Question 23"
   ]
  },
  {
   "cell_type": "code",
   "execution_count": 326,
   "id": "a498eef0",
   "metadata": {},
   "outputs": [
    {
     "name": "stdout",
     "output_type": "stream",
     "text": [
      "Regular Expression Is An Important Topic In Python\n"
     ]
    }
   ],
   "source": [
    "def insert_space(s):\n",
    "    p = r\"(\\w)([A-Z])\"\n",
    "    x = re.sub(p,r'\\1 \\2',s)\n",
    "    return x\n",
    "\n",
    "st = \"RegularExpressionIsAnImportantTopicInPython\"\n",
    "print(insert_space(st))"
   ]
  },
  {
   "cell_type": "markdown",
   "id": "c02b02f0",
   "metadata": {},
   "source": [
    "# Question 24"
   ]
  },
  {
   "cell_type": "code",
   "execution_count": 330,
   "id": "2e4bef75",
   "metadata": {},
   "outputs": [
    {
     "name": "stdout",
     "output_type": "stream",
     "text": [
      "['Regular', 'Expression', 'Is', 'An', 'Important', 'Topic', 'In', 'Python']\n"
     ]
    }
   ],
   "source": [
    "st = \"RegularExpressionIsAnImportantTopicInPython\"\n",
    "\n",
    "x = re.findall(\"[A-Z]+[a-z]+\",st)\n",
    "\n",
    "print(x)"
   ]
  },
  {
   "cell_type": "markdown",
   "id": "25250c94",
   "metadata": {},
   "source": [
    "# Question 25"
   ]
  },
  {
   "cell_type": "code",
   "execution_count": 333,
   "id": "25e06683",
   "metadata": {},
   "outputs": [
    {
     "name": "stdout",
     "output_type": "stream",
     "text": [
      "Hello hello world\n"
     ]
    }
   ],
   "source": [
    "def del_dup(s):\n",
    "    x = re.sub(r'\\b(\\w+)(\\s+\\1\\b)+',r'\\1', s)\n",
    "    return x  \n",
    "\n",
    "st = \"Hello hello world world\"\n",
    "print(del_dup(st))"
   ]
  },
  {
   "cell_type": "markdown",
   "id": "1df4d33a",
   "metadata": {},
   "source": [
    "# Question 26"
   ]
  },
  {
   "cell_type": "code",
   "execution_count": 336,
   "id": "fe4b4114",
   "metadata": {},
   "outputs": [
    {
     "name": "stdout",
     "output_type": "stream",
     "text": [
      "Accepted\n"
     ]
    }
   ],
   "source": [
    "st = \"Affan123\"\n",
    "\n",
    "if(re.search(\"[A-Za-z0-9]$\",st)):\n",
    "    print(\"Accepted\")\n",
    "else:\n",
    "    print(\"Not Accepted\")"
   ]
  },
  {
   "cell_type": "markdown",
   "id": "eeea512a",
   "metadata": {},
   "source": [
    "# Question 27"
   ]
  },
  {
   "cell_type": "code",
   "execution_count": 337,
   "id": "7582e991",
   "metadata": {},
   "outputs": [
    {
     "name": "stdout",
     "output_type": "stream",
     "text": [
      "['#Doltiwal', '#xyzabc', '#Demonetization']\n"
     ]
    }
   ],
   "source": [
    "st = \"\"\"RT @kapil_kausik: #Doltiwal I mean #xyzabc is \"hurt\" by #Demonetization as the same has rendered USELESS <ed><U+00A0><U+00BD><ed><U+00B1><U+0089> \"acquired funds\" No wo\"\"\"\n",
    "\n",
    "x = re.findall(r'#\\w+',st)\n",
    "\n",
    "print(x)"
   ]
  },
  {
   "cell_type": "markdown",
   "id": "4ad92c4e",
   "metadata": {},
   "source": [
    "# Question 28"
   ]
  },
  {
   "cell_type": "code",
   "execution_count": 339,
   "id": "c98b0914",
   "metadata": {},
   "outputs": [
    {
     "name": "stdout",
     "output_type": "stream",
     "text": [
      "@Jags123456 Bharat band on 28??<ed><ed>Those who  are protesting #demonetization  are all different party leaders\n"
     ]
    }
   ],
   "source": [
    "st = \"@Jags123456 Bharat band on 28??<ed><U+00A0><U+00BD><ed><U+00B8><U+0082>Those who  are protesting #demonetization  are all different party leaders\"\n",
    "\n",
    "pattern = r'<U\\+\\w{4}>'\n",
    "\n",
    "x = re.sub(pattern,\"\",st)\n",
    "\n",
    "print(x)"
   ]
  },
  {
   "cell_type": "markdown",
   "id": "174ab2f8",
   "metadata": {},
   "source": [
    "# Question 29"
   ]
  },
  {
   "cell_type": "code",
   "execution_count": 340,
   "id": "1ba98944",
   "metadata": {},
   "outputs": [],
   "source": [
    "f = open(\"Question 29.txt\")\n",
    "s = f.read()"
   ]
  },
  {
   "cell_type": "code",
   "execution_count": 342,
   "id": "a85e9119",
   "metadata": {},
   "outputs": [
    {
     "name": "stdout",
     "output_type": "stream",
     "text": [
      "Ron was born on 12-09-1992 and he was admitted to school 15-12-1999.\n",
      "\n",
      "['12-09-1992', '15-12-1999']\n"
     ]
    }
   ],
   "source": [
    "print(s)\n",
    "pattern = r'\\d{1,2}-\\d{1,2}-\\d{4}'\n",
    "x = re.findall(pattern,s)\n",
    "print(x)"
   ]
  },
  {
   "cell_type": "code",
   "execution_count": 343,
   "id": "50613cb7",
   "metadata": {},
   "outputs": [],
   "source": [
    "f.close()"
   ]
  },
  {
   "cell_type": "markdown",
   "id": "726c4f3d",
   "metadata": {},
   "source": [
    "# Question 30"
   ]
  },
  {
   "cell_type": "code",
   "execution_count": 346,
   "id": "0c41b3c9",
   "metadata": {},
   "outputs": [
    {
     "name": "stdout",
     "output_type": "stream",
     "text": [
      " following example creates  ArrayList  a capacity   elements. 4 elements   added   ArrayList   ArrayList  trimmed accordingly.\n"
     ]
    }
   ],
   "source": [
    "def extract2to4(s):\n",
    "    p = re.compile(r'\\b\\w{2,4}\\b')\n",
    "    x = p.sub('',s)\n",
    "    return x\n",
    "\n",
    "\n",
    "st = \"The following example creates an ArrayList with a capacity of 50 elements. 4 elements are then added to the ArrayList and the ArrayList is trimmed accordingly.\"\n",
    "\n",
    "print(extract2to4(st))"
   ]
  }
 ],
 "metadata": {
  "kernelspec": {
   "display_name": "Python 3 (ipykernel)",
   "language": "python",
   "name": "python3"
  },
  "language_info": {
   "codemirror_mode": {
    "name": "ipython",
    "version": 3
   },
   "file_extension": ".py",
   "mimetype": "text/x-python",
   "name": "python",
   "nbconvert_exporter": "python",
   "pygments_lexer": "ipython3",
   "version": "3.11.4"
  }
 },
 "nbformat": 4,
 "nbformat_minor": 5
}
