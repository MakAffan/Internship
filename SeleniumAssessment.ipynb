{
 "cells": [
  {
   "cell_type": "code",
   "execution_count": 1,
   "id": "0420fb6e-aad3-499f-a783-6e7989ca8302",
   "metadata": {
    "tags": []
   },
   "outputs": [],
   "source": [
    "from selenium import webdriver\n",
    "from selenium.webdriver.common.by import By\n",
    "import pandas as pd\n",
    "import re\n",
    "import time"
   ]
  },
  {
   "cell_type": "markdown",
   "id": "a78101cc-b96c-400d-85e5-60aa4ce81074",
   "metadata": {},
   "source": [
    "Question 1"
   ]
  },
  {
   "cell_type": "code",
   "execution_count": 14,
   "id": "8484a9f2-ad58-43a7-8da1-f74a0e0a8278",
   "metadata": {
    "tags": []
   },
   "outputs": [],
   "source": [
    "# Open the window with the website\n",
    "url = \"https://www.naukri.com/\"\n",
    "driver = webdriver.Chrome()\n",
    "driver.get(url)"
   ]
  },
  {
   "cell_type": "code",
   "execution_count": 16,
   "id": "836707ed-1de2-44ee-ba8d-3ccd84f725c3",
   "metadata": {
    "tags": []
   },
   "outputs": [],
   "source": [
    "# Searching for specific elemenys in the page as asked in question\n",
    "title = driver.find_element(By.CLASS_NAME,\"suggestor-input \")\n",
    "title.send_keys('Data Scientist')\n",
    "location = driver.find_element(By.XPATH,\"/html/body/div[1]/div[6]/div/div/div[5]/div/div/div/div[1]/div/input\")\n",
    "location.send_keys('Delhi/NCR')\n",
    "search = driver.find_element(By.CLASS_NAME,\"qsbSubmit\")\n",
    "search.click()"
   ]
  },
  {
   "cell_type": "code",
   "execution_count": 17,
   "id": "db13a86a-3f23-419a-8026-6f6c62c61c1a",
   "metadata": {
    "tags": []
   },
   "outputs": [],
   "source": [
    "# Initializing empty list to capture elements\n",
    "job_title = []\n",
    "job_location = []\n",
    "company_name = []\n",
    "experience = []"
   ]
  },
  {
   "cell_type": "code",
   "execution_count": 18,
   "id": "0d45f2e6-b899-4981-9562-1f323d7fb043",
   "metadata": {
    "tags": []
   },
   "outputs": [],
   "source": [
    "# Scrapping data from the webdriver using relative Xpath and storing in List\n",
    "for i in driver.find_elements(By.XPATH, '//div[@class=\"cust-job-tuple layout-wrapper lay-2 sjw__tuple \"]/div/a'):\n",
    "    job_title.append(i.text)\n",
    "    \n",
    "for i in driver.find_elements(By.XPATH, '//span[@class=\"locWdth\"]'):\n",
    "    job_location.append(i.text)\n",
    "    \n",
    "for i in driver.find_elements(By.XPATH, '//div[@class=\" row2\"]/span/a[1]'):\n",
    "    company_name.append(i.text)\n",
    "    \n",
    "for i in driver.find_elements(By.XPATH, '//span[@class=\"expwdth\"]'):\n",
    "    experience.append(i.text)"
   ]
  },
  {
   "cell_type": "code",
   "execution_count": 22,
   "id": "dfb43a29-eda6-40be-ad1f-1d67b6e56182",
   "metadata": {
    "tags": []
   },
   "outputs": [],
   "source": [
    "# filtering elements as secified in question\n",
    "for i in range(9,(len(job_title)-1)):\n",
    "    job_title.pop(i)\n",
    "    job_location.pop(i)\n",
    "    company_name.pop(i)\n",
    "    experience.pop(i)"
   ]
  },
  {
   "cell_type": "code",
   "execution_count": 23,
   "id": "7baab890-cbb6-4145-a7d0-ec4c8034b901",
   "metadata": {
    "tags": []
   },
   "outputs": [
    {
     "data": {
      "text/html": [
       "<div>\n",
       "<style scoped>\n",
       "    .dataframe tbody tr th:only-of-type {\n",
       "        vertical-align: middle;\n",
       "    }\n",
       "\n",
       "    .dataframe tbody tr th {\n",
       "        vertical-align: top;\n",
       "    }\n",
       "\n",
       "    .dataframe thead th {\n",
       "        text-align: right;\n",
       "    }\n",
       "</style>\n",
       "<table border=\"1\" class=\"dataframe\">\n",
       "  <thead>\n",
       "    <tr style=\"text-align: right;\">\n",
       "      <th></th>\n",
       "      <th>Title</th>\n",
       "      <th>Location</th>\n",
       "      <th>Company</th>\n",
       "      <th>Experience</th>\n",
       "    </tr>\n",
       "  </thead>\n",
       "  <tbody>\n",
       "    <tr>\n",
       "      <th>0</th>\n",
       "      <td>Data Scientist</td>\n",
       "      <td>Gurugram, Bengaluru</td>\n",
       "      <td>Blackbuck</td>\n",
       "      <td>3-7 Yrs</td>\n",
       "    </tr>\n",
       "    <tr>\n",
       "      <th>1</th>\n",
       "      <td>Data Scientist - NLP, Gen AI</td>\n",
       "      <td>Noida</td>\n",
       "      <td>R Systems International</td>\n",
       "      <td>5-8 Yrs</td>\n",
       "    </tr>\n",
       "    <tr>\n",
       "      <th>2</th>\n",
       "      <td>Associate Scientist - Data Sourcing &amp; Solutions</td>\n",
       "      <td>Gurugram</td>\n",
       "      <td>Axa Technology Services</td>\n",
       "      <td>1-4 Yrs</td>\n",
       "    </tr>\n",
       "    <tr>\n",
       "      <th>3</th>\n",
       "      <td>Global GI Data Scientist</td>\n",
       "      <td>Faridabad</td>\n",
       "      <td>Hitachi Ltd.</td>\n",
       "      <td>3-5 Yrs</td>\n",
       "    </tr>\n",
       "    <tr>\n",
       "      <th>4</th>\n",
       "      <td>Data Scientist</td>\n",
       "      <td>Kolkata, Mumbai, New Delhi, Hyderabad, Pune, C...</td>\n",
       "      <td>Digital Glyde</td>\n",
       "      <td>3-7 Yrs</td>\n",
       "    </tr>\n",
       "    <tr>\n",
       "      <th>5</th>\n",
       "      <td>Python Data Scientist</td>\n",
       "      <td>Kolkata, Mumbai, New Delhi, Hyderabad, Pune, C...</td>\n",
       "      <td>Wizaltia Hr Solutions</td>\n",
       "      <td>2-7 Yrs</td>\n",
       "    </tr>\n",
       "    <tr>\n",
       "      <th>6</th>\n",
       "      <td>Data Scientist</td>\n",
       "      <td>Kolkata, Mumbai, New Delhi, Hyderabad, Pune, C...</td>\n",
       "      <td>Kmart</td>\n",
       "      <td>3-5 Yrs</td>\n",
       "    </tr>\n",
       "    <tr>\n",
       "      <th>7</th>\n",
       "      <td>Data Scientist</td>\n",
       "      <td>Kolkata, Mumbai, New Delhi, Hyderabad, Pune, C...</td>\n",
       "      <td>KAS Services</td>\n",
       "      <td>3-5 Yrs</td>\n",
       "    </tr>\n",
       "    <tr>\n",
       "      <th>8</th>\n",
       "      <td>Data Scientist</td>\n",
       "      <td>Kolkata, Mumbai, New Delhi, Hyderabad, Pune, C...</td>\n",
       "      <td>Scienaptic Systems</td>\n",
       "      <td>2-7 Yrs</td>\n",
       "    </tr>\n",
       "    <tr>\n",
       "      <th>9</th>\n",
       "      <td>Python and ML Trainer</td>\n",
       "      <td>Hyderabad, New Delhi, Pune, Gurugram, Bengaluru</td>\n",
       "      <td>The Scholar</td>\n",
       "      <td>3-8 Yrs</td>\n",
       "    </tr>\n",
       "  </tbody>\n",
       "</table>\n",
       "</div>"
      ],
      "text/plain": [
       "                                             Title  \\\n",
       "0                                   Data Scientist   \n",
       "1                     Data Scientist - NLP, Gen AI   \n",
       "2  Associate Scientist - Data Sourcing & Solutions   \n",
       "3                         Global GI Data Scientist   \n",
       "4                                   Data Scientist   \n",
       "5                            Python Data Scientist   \n",
       "6                                   Data Scientist   \n",
       "7                                   Data Scientist   \n",
       "8                                   Data Scientist   \n",
       "9                            Python and ML Trainer   \n",
       "\n",
       "                                            Location                  Company  \\\n",
       "0                                Gurugram, Bengaluru                Blackbuck   \n",
       "1                                              Noida  R Systems International   \n",
       "2                                           Gurugram  Axa Technology Services   \n",
       "3                                          Faridabad             Hitachi Ltd.   \n",
       "4  Kolkata, Mumbai, New Delhi, Hyderabad, Pune, C...            Digital Glyde   \n",
       "5  Kolkata, Mumbai, New Delhi, Hyderabad, Pune, C...    Wizaltia Hr Solutions   \n",
       "6  Kolkata, Mumbai, New Delhi, Hyderabad, Pune, C...                    Kmart   \n",
       "7  Kolkata, Mumbai, New Delhi, Hyderabad, Pune, C...             KAS Services   \n",
       "8  Kolkata, Mumbai, New Delhi, Hyderabad, Pune, C...       Scienaptic Systems   \n",
       "9    Hyderabad, New Delhi, Pune, Gurugram, Bengaluru              The Scholar   \n",
       "\n",
       "  Experience  \n",
       "0    3-7 Yrs  \n",
       "1    5-8 Yrs  \n",
       "2    1-4 Yrs  \n",
       "3    3-5 Yrs  \n",
       "4    3-7 Yrs  \n",
       "5    2-7 Yrs  \n",
       "6    3-5 Yrs  \n",
       "7    3-5 Yrs  \n",
       "8    2-7 Yrs  \n",
       "9    3-8 Yrs  "
      ]
     },
     "execution_count": 23,
     "metadata": {},
     "output_type": "execute_result"
    }
   ],
   "source": [
    "# Forming the DataFrame from scrapped elements \n",
    "df = pd.DataFrame({\"Title\":job_title,\"Location\":job_location,\"Company\":company_name,\"Experience\":experience})\n",
    "df"
   ]
  },
  {
   "cell_type": "markdown",
   "id": "43a12f8c-830a-49c7-8bf6-692b398b7646",
   "metadata": {},
   "source": [
    "Question 2"
   ]
  },
  {
   "cell_type": "code",
   "execution_count": 24,
   "id": "7ffbd274-8a73-4b38-a0ef-733dfa9362b7",
   "metadata": {
    "tags": []
   },
   "outputs": [],
   "source": [
    "# Open the window with the website\n",
    "url = \"https://www.shine.com/\"\n",
    "driver = webdriver.Chrome()\n",
    "driver.get(url)"
   ]
  },
  {
   "cell_type": "code",
   "execution_count": 26,
   "id": "cbcbd864-a4bd-4818-9cdd-ce1c0da03052",
   "metadata": {
    "tags": []
   },
   "outputs": [],
   "source": [
    "# Searching for specific elemenys in the page as asked in question\n",
    "title = driver.find_element(By.CLASS_NAME,\"form-control  \")\n",
    "title.send_keys('Data Analyst')\n",
    "location = driver.find_element(By.XPATH,\"/html/body/div/div[4]/div/div[2]/div[2]/div/form/div/div[1]/ul/li[2]/div/input\")\n",
    "location.send_keys('Bangalore')\n",
    "search = driver.find_element(By.CLASS_NAME,\"searchForm_btnWrap_advance__VYBHN\")\n",
    "search.click()"
   ]
  },
  {
   "cell_type": "code",
   "execution_count": 27,
   "id": "d4aac506-85fe-416c-b630-47ffb84ba275",
   "metadata": {
    "tags": []
   },
   "outputs": [],
   "source": [
    "# Initializing empty list to capture elements\n",
    "job_title = []\n",
    "job_location = []\n",
    "company_name = []\n",
    "experience = []"
   ]
  },
  {
   "cell_type": "code",
   "execution_count": 28,
   "id": "eb201fe4-6aea-4890-9604-041e27aca018",
   "metadata": {
    "tags": []
   },
   "outputs": [],
   "source": [
    "# Scrapping data from the webdriver using relative Xpath and storing in List\n",
    "for i in driver.find_elements(By.XPATH, '//strong[@class=\"jobCard_pReplaceH2__xWmHg\"]/h2/a'):\n",
    "    job_title.append(i.text)\n",
    "    \n",
    "for i in driver.find_elements(By.XPATH, '//div[@class=\" jobCard_jobCard_lists_item__YxRkV jobCard_locationIcon__zrWt2\"]'):\n",
    "    x = re.sub('[\\n+0-9]',\"\",i.text)\n",
    "    job_location.append(x)\n",
    "    \n",
    "for i in driver.find_elements(By.XPATH, '//div[@class=\"jobCard_jobCard_cName__mYnow\"]/span'):\n",
    "    company_name.append(i.text)\n",
    "    \n",
    "for i in driver.find_elements(By.XPATH, '//div[@class=\" jobCard_jobCard_lists_item__YxRkV jobCard_jobIcon__3FB1t\"]'):\n",
    "    experience.append(i.text)"
   ]
  },
  {
   "cell_type": "code",
   "execution_count": 31,
   "id": "c3fdcf5d-7bec-4f48-8029-0aac68d084e6",
   "metadata": {
    "tags": []
   },
   "outputs": [],
   "source": [
    "# filtering elements as secified in question\n",
    "for i in range(9,(len(job_location)-1)):\n",
    "    job_title.pop(i)\n",
    "    job_location.pop(i)\n",
    "    company_name.pop(i)\n",
    "    experience.pop(i)"
   ]
  },
  {
   "cell_type": "code",
   "execution_count": 32,
   "id": "a8fe4629-8669-468d-8a24-f53596100fce",
   "metadata": {
    "tags": []
   },
   "outputs": [
    {
     "data": {
      "text/html": [
       "<div>\n",
       "<style scoped>\n",
       "    .dataframe tbody tr th:only-of-type {\n",
       "        vertical-align: middle;\n",
       "    }\n",
       "\n",
       "    .dataframe tbody tr th {\n",
       "        vertical-align: top;\n",
       "    }\n",
       "\n",
       "    .dataframe thead th {\n",
       "        text-align: right;\n",
       "    }\n",
       "</style>\n",
       "<table border=\"1\" class=\"dataframe\">\n",
       "  <thead>\n",
       "    <tr style=\"text-align: right;\">\n",
       "      <th></th>\n",
       "      <th>Title</th>\n",
       "      <th>Location</th>\n",
       "      <th>Company</th>\n",
       "      <th>Experience</th>\n",
       "    </tr>\n",
       "  </thead>\n",
       "  <tbody>\n",
       "    <tr>\n",
       "      <th>0</th>\n",
       "      <td>Data Analyst , Senior Data Analyst , Data Anal...</td>\n",
       "      <td>Bangalore</td>\n",
       "      <td>appsoft solutions</td>\n",
       "      <td>0 to 4 Yrs</td>\n",
       "    </tr>\n",
       "    <tr>\n",
       "      <th>1</th>\n",
       "      <td>Data Analyst</td>\n",
       "      <td>Bangalore</td>\n",
       "      <td>valenta bpo solutions pvt. ltd.</td>\n",
       "      <td>4 to 5 Yrs</td>\n",
       "    </tr>\n",
       "    <tr>\n",
       "      <th>2</th>\n",
       "      <td>Data Analyst (Power BI, Python, SQL)- Internal...</td>\n",
       "      <td>Bangalore</td>\n",
       "      <td>talent leads hr solutions pvt ltd</td>\n",
       "      <td>3 to 8 Yrs</td>\n",
       "    </tr>\n",
       "    <tr>\n",
       "      <th>3</th>\n",
       "      <td>Clinical Data Analyst</td>\n",
       "      <td>Bangalore</td>\n",
       "      <td>techno endura</td>\n",
       "      <td>0 to 1 Yr</td>\n",
       "    </tr>\n",
       "    <tr>\n",
       "      <th>4</th>\n",
       "      <td>Data Analyst Fresher and Experience Vacancy</td>\n",
       "      <td>Bangalore</td>\n",
       "      <td>radhika enterprises</td>\n",
       "      <td>0 to 4 Yrs</td>\n",
       "    </tr>\n",
       "    <tr>\n",
       "      <th>5</th>\n",
       "      <td>Data Analyst Opening</td>\n",
       "      <td>Bangalore</td>\n",
       "      <td>radhika enterprises</td>\n",
       "      <td>0 to 4 Yrs</td>\n",
       "    </tr>\n",
       "    <tr>\n",
       "      <th>6</th>\n",
       "      <td>Data Analyst Recruitment</td>\n",
       "      <td>Bangalore</td>\n",
       "      <td>radhika enterprises</td>\n",
       "      <td>0 to 4 Yrs</td>\n",
       "    </tr>\n",
       "    <tr>\n",
       "      <th>7</th>\n",
       "      <td>Data Analyst Recruitment</td>\n",
       "      <td>Bangalore</td>\n",
       "      <td>radhika enterprises</td>\n",
       "      <td>0 to 4 Yrs</td>\n",
       "    </tr>\n",
       "    <tr>\n",
       "      <th>8</th>\n",
       "      <td>Business Analyst</td>\n",
       "      <td>Bangalore</td>\n",
       "      <td>mackenzie modern it solutions priva...</td>\n",
       "      <td>4 to 6 Yrs</td>\n",
       "    </tr>\n",
       "    <tr>\n",
       "      <th>9</th>\n",
       "      <td>Data Science- Manager</td>\n",
       "      <td>Bangalore</td>\n",
       "      <td>mackenzie modern it solutions priva...</td>\n",
       "      <td>6 to 11 Yrs</td>\n",
       "    </tr>\n",
       "  </tbody>\n",
       "</table>\n",
       "</div>"
      ],
      "text/plain": [
       "                                               Title   Location  \\\n",
       "0  Data Analyst , Senior Data Analyst , Data Anal...  Bangalore   \n",
       "1                                       Data Analyst  Bangalore   \n",
       "2  Data Analyst (Power BI, Python, SQL)- Internal...  Bangalore   \n",
       "3                              Clinical Data Analyst  Bangalore   \n",
       "4        Data Analyst Fresher and Experience Vacancy  Bangalore   \n",
       "5                               Data Analyst Opening  Bangalore   \n",
       "6                           Data Analyst Recruitment  Bangalore   \n",
       "7                           Data Analyst Recruitment  Bangalore   \n",
       "8                                   Business Analyst  Bangalore   \n",
       "9                              Data Science- Manager  Bangalore   \n",
       "\n",
       "                                  Company   Experience  \n",
       "0                       appsoft solutions   0 to 4 Yrs  \n",
       "1         valenta bpo solutions pvt. ltd.   4 to 5 Yrs  \n",
       "2       talent leads hr solutions pvt ltd   3 to 8 Yrs  \n",
       "3                           techno endura    0 to 1 Yr  \n",
       "4                     radhika enterprises   0 to 4 Yrs  \n",
       "5                     radhika enterprises   0 to 4 Yrs  \n",
       "6                     radhika enterprises   0 to 4 Yrs  \n",
       "7                     radhika enterprises   0 to 4 Yrs  \n",
       "8  mackenzie modern it solutions priva...   4 to 6 Yrs  \n",
       "9  mackenzie modern it solutions priva...  6 to 11 Yrs  "
      ]
     },
     "execution_count": 32,
     "metadata": {},
     "output_type": "execute_result"
    }
   ],
   "source": [
    "# Forming the DataFrame from scrapped elements\n",
    "df = pd.DataFrame({\"Title\":job_title,\"Location\":job_location,\"Company\":company_name,\"Experience\":experience})\n",
    "df"
   ]
  },
  {
   "cell_type": "markdown",
   "id": "3e518bbf-f17c-482b-9874-e4cf3ddfe01d",
   "metadata": {},
   "source": [
    "Question 3"
   ]
  },
  {
   "cell_type": "code",
   "execution_count": 33,
   "id": "e03b4733-e5b9-4a1c-892b-b4501acba0e9",
   "metadata": {
    "tags": []
   },
   "outputs": [],
   "source": [
    "# Open the window with the website\n",
    "url = \"https://www.flipkart.com/apple-iphone-11-black-64-gb/product-reviews/itm4e5041ba101fd?pid=MOBFWQ6BXGJCEYNY&lid=LSTMOBFWQ6BXGJCEYNYZXSHRJ&marketplace=FLIPKART\"\n",
    "driver = webdriver.Chrome()\n",
    "driver.get(url)"
   ]
  },
  {
   "cell_type": "code",
   "execution_count": 34,
   "id": "e8dff967-e2bc-4ac3-a5e5-fd3b6539ae2e",
   "metadata": {
    "tags": []
   },
   "outputs": [],
   "source": [
    "# Initializing empty list to capture elements\n",
    "rating = []\n",
    "review_summary = []\n",
    "review_full = []"
   ]
  },
  {
   "cell_type": "code",
   "execution_count": 35,
   "id": "e8d324a8-592f-490f-93a2-d26241527827",
   "metadata": {
    "tags": []
   },
   "outputs": [],
   "source": [
    "# Traversing through multiple pages and extract elements as needed\n",
    "start = 0\n",
    "end = 10\n",
    "for i in range(start,end):\n",
    "    for i in driver.find_elements(By.XPATH, '//div[@class=\"XQDdHH Ga3i8K\"]'):\n",
    "        rating.append(i.text) \n",
    "    for i in driver.find_elements(By.XPATH, '//p[@class=\"z9E0IG\"]'):\n",
    "        review_summary.append(i.text)\n",
    "    for i in driver.find_elements(By.XPATH, '//div[@class=\"ZmyHeo\"]/div/div'):\n",
    "        review_full.append(i.text)\n",
    "    button = driver.find_element(By.XPATH,'//a[@class=\"_9QVEpD\"]')\n",
    "    button.click()\n",
    "    time.sleep(3)"
   ]
  },
  {
   "cell_type": "code",
   "execution_count": 36,
   "id": "3e64d93b-6af6-4bff-adb7-171d83e9cae1",
   "metadata": {
    "tags": []
   },
   "outputs": [
    {
     "data": {
      "text/html": [
       "<div>\n",
       "<style scoped>\n",
       "    .dataframe tbody tr th:only-of-type {\n",
       "        vertical-align: middle;\n",
       "    }\n",
       "\n",
       "    .dataframe tbody tr th {\n",
       "        vertical-align: top;\n",
       "    }\n",
       "\n",
       "    .dataframe thead th {\n",
       "        text-align: right;\n",
       "    }\n",
       "</style>\n",
       "<table border=\"1\" class=\"dataframe\">\n",
       "  <thead>\n",
       "    <tr style=\"text-align: right;\">\n",
       "      <th></th>\n",
       "      <th>Rating</th>\n",
       "      <th>Experience</th>\n",
       "      <th>Review</th>\n",
       "    </tr>\n",
       "  </thead>\n",
       "  <tbody>\n",
       "    <tr>\n",
       "      <th>0</th>\n",
       "      <td>5</td>\n",
       "      <td>Classy product</td>\n",
       "      <td>Camera is awesome\\nBest battery backup\\nA perf...</td>\n",
       "    </tr>\n",
       "    <tr>\n",
       "      <th>1</th>\n",
       "      <td>5</td>\n",
       "      <td>Terrific</td>\n",
       "      <td>Very very good</td>\n",
       "    </tr>\n",
       "    <tr>\n",
       "      <th>2</th>\n",
       "      <td>5</td>\n",
       "      <td>Wonderful</td>\n",
       "      <td>This is amazing at all</td>\n",
       "    </tr>\n",
       "    <tr>\n",
       "      <th>3</th>\n",
       "      <td>5</td>\n",
       "      <td>Worth every penny</td>\n",
       "      <td>Feeling awesome after getting the delivery of ...</td>\n",
       "    </tr>\n",
       "    <tr>\n",
       "      <th>4</th>\n",
       "      <td>5</td>\n",
       "      <td>Best in the market!</td>\n",
       "      <td>Good Camera</td>\n",
       "    </tr>\n",
       "    <tr>\n",
       "      <th>...</th>\n",
       "      <td>...</td>\n",
       "      <td>...</td>\n",
       "      <td>...</td>\n",
       "    </tr>\n",
       "    <tr>\n",
       "      <th>95</th>\n",
       "      <td>5</td>\n",
       "      <td>Awesome</td>\n",
       "      <td>iPhone 11 is a good phone. Not a very big diff...</td>\n",
       "    </tr>\n",
       "    <tr>\n",
       "      <th>96</th>\n",
       "      <td>5</td>\n",
       "      <td>Super!</td>\n",
       "      <td>Good product 👌I love iPhone</td>\n",
       "    </tr>\n",
       "    <tr>\n",
       "      <th>97</th>\n",
       "      <td>5</td>\n",
       "      <td>Brilliant</td>\n",
       "      <td>Excellent Phone.</td>\n",
       "    </tr>\n",
       "    <tr>\n",
       "      <th>98</th>\n",
       "      <td>5</td>\n",
       "      <td>Must buy!</td>\n",
       "      <td>Go for iPhone 11 , if confused between iPhone ...</td>\n",
       "    </tr>\n",
       "    <tr>\n",
       "      <th>99</th>\n",
       "      <td>5</td>\n",
       "      <td>Best in the market!</td>\n",
       "      <td>Superbb performance n camera is awesome 😍😍</td>\n",
       "    </tr>\n",
       "  </tbody>\n",
       "</table>\n",
       "<p>100 rows × 3 columns</p>\n",
       "</div>"
      ],
      "text/plain": [
       "   Rating           Experience  \\\n",
       "0       5       Classy product   \n",
       "1       5             Terrific   \n",
       "2       5            Wonderful   \n",
       "3       5    Worth every penny   \n",
       "4       5  Best in the market!   \n",
       "..    ...                  ...   \n",
       "95      5              Awesome   \n",
       "96      5               Super!   \n",
       "97      5            Brilliant   \n",
       "98      5            Must buy!   \n",
       "99      5  Best in the market!   \n",
       "\n",
       "                                               Review  \n",
       "0   Camera is awesome\\nBest battery backup\\nA perf...  \n",
       "1                                      Very very good  \n",
       "2                              This is amazing at all  \n",
       "3   Feeling awesome after getting the delivery of ...  \n",
       "4                                         Good Camera  \n",
       "..                                                ...  \n",
       "95  iPhone 11 is a good phone. Not a very big diff...  \n",
       "96                        Good product 👌I love iPhone  \n",
       "97                                   Excellent Phone.  \n",
       "98  Go for iPhone 11 , if confused between iPhone ...  \n",
       "99         Superbb performance n camera is awesome 😍😍  \n",
       "\n",
       "[100 rows x 3 columns]"
      ]
     },
     "execution_count": 36,
     "metadata": {},
     "output_type": "execute_result"
    }
   ],
   "source": [
    "# Forming the DataFrame from scrapped elements\n",
    "df = pd.DataFrame({\"Rating\":rating,\"Experience\":review_summary,\"Review\":review_full})\n",
    "df"
   ]
  },
  {
   "cell_type": "markdown",
   "id": "09e1154d-e613-4693-b46a-d68bf8ff08f0",
   "metadata": {
    "tags": []
   },
   "source": [
    "Question 4"
   ]
  },
  {
   "cell_type": "code",
   "execution_count": 37,
   "id": "fa96c3ac-53db-41af-8882-8f85b7e8470f",
   "metadata": {
    "tags": []
   },
   "outputs": [],
   "source": [
    "# Open the window with the website\n",
    "url = \"https://www.flipkart.com/\"\n",
    "driver = webdriver.Chrome()\n",
    "driver.get(url)"
   ]
  },
  {
   "cell_type": "code",
   "execution_count": 38,
   "id": "39efa468-ba71-4f19-8ae2-edcd83954e3e",
   "metadata": {
    "tags": []
   },
   "outputs": [],
   "source": [
    "# Searching for specific elemenys in the page as asked in question\n",
    "title = driver.find_element(By.CLASS_NAME,\"Pke_EE\")\n",
    "title.send_keys('sneakers')\n",
    "search = driver.find_element(By.CLASS_NAME,\"_2iLD__\")\n",
    "search.click()"
   ]
  },
  {
   "cell_type": "code",
   "execution_count": 39,
   "id": "4190235e-b507-4009-a1d4-8cafdaf2b2d4",
   "metadata": {
    "tags": []
   },
   "outputs": [],
   "source": [
    "# Initializing empty list to capture elements\n",
    "brand = []\n",
    "descreption = []\n",
    "price = []"
   ]
  },
  {
   "cell_type": "code",
   "execution_count": 40,
   "id": "91a4e763-4462-480a-a166-b027c2c771f2",
   "metadata": {
    "tags": []
   },
   "outputs": [],
   "source": [
    "# Traversing through multiple pages and extract elements as needed\n",
    "start = 0\n",
    "end = 3\n",
    "for i in range(start,end):\n",
    "    for i in driver.find_elements(By.XPATH, '//div[@class=\"syl9yP\"]'):\n",
    "        brand.append(i.text)\n",
    "    for i in driver.find_elements(By.XPATH, '//div[@class=\"hCKiGj\"]/a[1]'):\n",
    "        descreption.append(i.text)\n",
    "    for i in driver.find_elements(By.XPATH, '//div[@class=\"Nx9bqj\"]'):\n",
    "        price.append(i.text)\n",
    "    button = driver.find_element(By.XPATH,'//a[@class=\"_9QVEpD\"]')\n",
    "    button.click()\n",
    "    time.sleep(3)"
   ]
  },
  {
   "cell_type": "code",
   "execution_count": 44,
   "id": "8fdf05ff-c589-43b6-a071-c58bace078c6",
   "metadata": {
    "tags": []
   },
   "outputs": [],
   "source": [
    "# filtering elements as secified in question\n",
    "for i in range(99,(len(brand)-1)):\n",
    "    brand.pop(i)\n",
    "    descreption.pop(i)\n",
    "    price.pop(i)"
   ]
  },
  {
   "cell_type": "code",
   "execution_count": 45,
   "id": "f755667a-ff8c-4b6c-9e32-106bde55eef6",
   "metadata": {
    "tags": []
   },
   "outputs": [
    {
     "data": {
      "text/html": [
       "<div>\n",
       "<style scoped>\n",
       "    .dataframe tbody tr th:only-of-type {\n",
       "        vertical-align: middle;\n",
       "    }\n",
       "\n",
       "    .dataframe tbody tr th {\n",
       "        vertical-align: top;\n",
       "    }\n",
       "\n",
       "    .dataframe thead th {\n",
       "        text-align: right;\n",
       "    }\n",
       "</style>\n",
       "<table border=\"1\" class=\"dataframe\">\n",
       "  <thead>\n",
       "    <tr style=\"text-align: right;\">\n",
       "      <th></th>\n",
       "      <th>Brand</th>\n",
       "      <th>Description</th>\n",
       "      <th>Price</th>\n",
       "    </tr>\n",
       "  </thead>\n",
       "  <tbody>\n",
       "    <tr>\n",
       "      <th>0</th>\n",
       "      <td>Kraasa</td>\n",
       "      <td>GROOVY Mid-Top Casual Chunky Streetwear Fashio...</td>\n",
       "      <td>₹542</td>\n",
       "    </tr>\n",
       "    <tr>\n",
       "      <th>1</th>\n",
       "      <td>RapidBox</td>\n",
       "      <td>Dynamite Lace-Up Sneakers For Men</td>\n",
       "      <td>₹585</td>\n",
       "    </tr>\n",
       "    <tr>\n",
       "      <th>2</th>\n",
       "      <td>URBANBOX</td>\n",
       "      <td>Trending Stylish Casual Outdoor Shoes Sneakers...</td>\n",
       "      <td>₹299</td>\n",
       "    </tr>\n",
       "    <tr>\n",
       "      <th>3</th>\n",
       "      <td>RED TAPE</td>\n",
       "      <td>Casual Sneaker Shoes for Men | Classic Rounded...</td>\n",
       "      <td>₹1,649</td>\n",
       "    </tr>\n",
       "    <tr>\n",
       "      <th>4</th>\n",
       "      <td>RED TAPE</td>\n",
       "      <td>Casual Sneaker Shoes for Men | Classic Rounded...</td>\n",
       "      <td>₹1,649</td>\n",
       "    </tr>\n",
       "    <tr>\n",
       "      <th>...</th>\n",
       "      <td>...</td>\n",
       "      <td>...</td>\n",
       "      <td>...</td>\n",
       "    </tr>\n",
       "    <tr>\n",
       "      <th>95</th>\n",
       "      <td>Nobelite</td>\n",
       "      <td>Sneakers For Men</td>\n",
       "      <td>₹465</td>\n",
       "    </tr>\n",
       "    <tr>\n",
       "      <th>96</th>\n",
       "      <td>JUMPLITE</td>\n",
       "      <td>Lightweight Comfort Summer Trendy Premium Styl...</td>\n",
       "      <td>₹968</td>\n",
       "    </tr>\n",
       "    <tr>\n",
       "      <th>97</th>\n",
       "      <td>Jack Diamond</td>\n",
       "      <td>sneaker Sneakers For Men</td>\n",
       "      <td>₹749</td>\n",
       "    </tr>\n",
       "    <tr>\n",
       "      <th>98</th>\n",
       "      <td>URBANBOX</td>\n",
       "      <td>Stylish &amp; Trending Outdoor Walking Comfortable...</td>\n",
       "      <td>₹299</td>\n",
       "    </tr>\n",
       "    <tr>\n",
       "      <th>99</th>\n",
       "      <td>Rowlans</td>\n",
       "      <td>comfortable,durable,sport shoe,snerakers,walki...</td>\n",
       "      <td>₹399</td>\n",
       "    </tr>\n",
       "  </tbody>\n",
       "</table>\n",
       "<p>100 rows × 3 columns</p>\n",
       "</div>"
      ],
      "text/plain": [
       "           Brand                                        Description   Price\n",
       "0         Kraasa  GROOVY Mid-Top Casual Chunky Streetwear Fashio...    ₹542\n",
       "1       RapidBox                  Dynamite Lace-Up Sneakers For Men    ₹585\n",
       "2       URBANBOX  Trending Stylish Casual Outdoor Shoes Sneakers...    ₹299\n",
       "3       RED TAPE  Casual Sneaker Shoes for Men | Classic Rounded...  ₹1,649\n",
       "4       RED TAPE  Casual Sneaker Shoes for Men | Classic Rounded...  ₹1,649\n",
       "..           ...                                                ...     ...\n",
       "95      Nobelite                                   Sneakers For Men    ₹465\n",
       "96      JUMPLITE  Lightweight Comfort Summer Trendy Premium Styl...    ₹968\n",
       "97  Jack Diamond                           sneaker Sneakers For Men    ₹749\n",
       "98      URBANBOX  Stylish & Trending Outdoor Walking Comfortable...    ₹299\n",
       "99       Rowlans  comfortable,durable,sport shoe,snerakers,walki...    ₹399\n",
       "\n",
       "[100 rows x 3 columns]"
      ]
     },
     "execution_count": 45,
     "metadata": {},
     "output_type": "execute_result"
    }
   ],
   "source": [
    "# Forming the DataFrame from scrapped elements\n",
    "df = pd.DataFrame({\"Brand\":brand,\"Description\":descreption,\"Price\":price})\n",
    "df"
   ]
  },
  {
   "cell_type": "markdown",
   "id": "b6229dac-5d9b-42ac-b8d6-c6f9b1dde25c",
   "metadata": {},
   "source": [
    "Question 5"
   ]
  },
  {
   "cell_type": "code",
   "execution_count": 46,
   "id": "22d0d389-64db-4183-a896-2eb159eb41fc",
   "metadata": {
    "tags": []
   },
   "outputs": [],
   "source": [
    "# Open the window with the website\n",
    "url = \"https://www.amazon.in/s?k=laptop&rh=n%3A976392031%2Cp_n_feature_thirteen_browse-bin%3A12598163031&dc&ds=v1%3AvCV9jP9l%2F%2BpVDKvXISp3qgrAWddXETebj%2BVhJ30IPVQ&crid=3QLM3XQTPKNC6&qid=1716030035&rnid=12598141031&sprefix=Lapt%2Caps%2C287&ref=sr_nr_p_n_feature_thirteen_browse-bin_12\"\n",
    "driver = webdriver.Chrome()\n",
    "driver.get(url)"
   ]
  },
  {
   "cell_type": "code",
   "execution_count": 47,
   "id": "f1c65578-3202-435f-8578-204716a7d444",
   "metadata": {
    "tags": []
   },
   "outputs": [],
   "source": [
    "# Initializing empty list to capture elements\n",
    "title = []\n",
    "rating = []\n",
    "price = []"
   ]
  },
  {
   "cell_type": "code",
   "execution_count": 48,
   "id": "714f6dfb-30a0-4018-83e1-07db94682905",
   "metadata": {
    "tags": []
   },
   "outputs": [],
   "source": [
    "# Scrapping data from the webdriver using relative Xpath and storing in List\n",
    "for i in driver.find_elements(By.XPATH, '//span[@class=\"a-size-medium a-color-base a-text-normal\"]'):\n",
    "    title.append(i.text)\n",
    "for i in driver.find_elements(By.XPATH, '//span[@class=\"a-size-base s-underline-text\"]'):\n",
    "    rating.append(i.text)\n",
    "for i in driver.find_elements(By.XPATH, '//span[@class=\"a-price-whole\"]'):\n",
    "    price.append(i.text)"
   ]
  },
  {
   "cell_type": "code",
   "execution_count": 49,
   "id": "9805e00d-73a5-4dcd-82cd-6d78da22a755",
   "metadata": {
    "tags": []
   },
   "outputs": [],
   "source": [
    "# filtering elements as secified in question\n",
    "d = {\"Title\":[],\"Ratings\":[],\"Price\":[]}\n",
    "for i in range(10):\n",
    "    d[\"Title\"].append(title[i])\n",
    "    d[\"Ratings\"].append(rating[i])\n",
    "    d[\"Price\"].append(price[i])"
   ]
  },
  {
   "cell_type": "code",
   "execution_count": 50,
   "id": "04b87605-0bfc-4f15-8eca-a1cc756cc656",
   "metadata": {
    "tags": []
   },
   "outputs": [
    {
     "data": {
      "text/html": [
       "<div>\n",
       "<style scoped>\n",
       "    .dataframe tbody tr th:only-of-type {\n",
       "        vertical-align: middle;\n",
       "    }\n",
       "\n",
       "    .dataframe tbody tr th {\n",
       "        vertical-align: top;\n",
       "    }\n",
       "\n",
       "    .dataframe thead th {\n",
       "        text-align: right;\n",
       "    }\n",
       "</style>\n",
       "<table border=\"1\" class=\"dataframe\">\n",
       "  <thead>\n",
       "    <tr style=\"text-align: right;\">\n",
       "      <th></th>\n",
       "      <th>Title</th>\n",
       "      <th>Ratings</th>\n",
       "      <th>Price</th>\n",
       "    </tr>\n",
       "  </thead>\n",
       "  <tbody>\n",
       "    <tr>\n",
       "      <th>0</th>\n",
       "      <td>Lenovo IdeaPad Slim 3 Intel Core i7 12th Gen 1...</td>\n",
       "      <td>493</td>\n",
       "      <td>62,990</td>\n",
       "    </tr>\n",
       "    <tr>\n",
       "      <th>1</th>\n",
       "      <td>Acer Aspire Lite 12th Gen Intel Core i7-1255U ...</td>\n",
       "      <td>393</td>\n",
       "      <td>54,990</td>\n",
       "    </tr>\n",
       "    <tr>\n",
       "      <th>2</th>\n",
       "      <td>Dell Inspiron 7420 2in1 Laptop, Intel Core i7-...</td>\n",
       "      <td>72</td>\n",
       "      <td>77,490</td>\n",
       "    </tr>\n",
       "    <tr>\n",
       "      <th>3</th>\n",
       "      <td>MSI Modern 14, Intel 12th Gen. i7-1255U, 36CM ...</td>\n",
       "      <td>109</td>\n",
       "      <td>54,990</td>\n",
       "    </tr>\n",
       "    <tr>\n",
       "      <th>4</th>\n",
       "      <td>HP Laptop 15s, 12th Gen Intel Core i7-1255U, 1...</td>\n",
       "      <td>59</td>\n",
       "      <td>63,990</td>\n",
       "    </tr>\n",
       "    <tr>\n",
       "      <th>5</th>\n",
       "      <td>ASUS Vivobook 15, IntelCore i7-12650H 12th Gen...</td>\n",
       "      <td>244</td>\n",
       "      <td>57,990</td>\n",
       "    </tr>\n",
       "    <tr>\n",
       "      <th>6</th>\n",
       "      <td>ASUS TUF Gaming F15, 15.6\"(39.62 cms) FHD 144H...</td>\n",
       "      <td>286</td>\n",
       "      <td>72,990</td>\n",
       "    </tr>\n",
       "    <tr>\n",
       "      <th>7</th>\n",
       "      <td>HP Pavilion 14 12th Gen Intel Core i7 16GB SDR...</td>\n",
       "      <td>696</td>\n",
       "      <td>77,700</td>\n",
       "    </tr>\n",
       "    <tr>\n",
       "      <th>8</th>\n",
       "      <td>Acer Travelmate Business Laptop Intel Core i7-...</td>\n",
       "      <td>34</td>\n",
       "      <td>47,990</td>\n",
       "    </tr>\n",
       "    <tr>\n",
       "      <th>9</th>\n",
       "      <td>Samsung Galaxy Book3 Core i7 13th Gen 1355U - ...</td>\n",
       "      <td>103</td>\n",
       "      <td>64,990</td>\n",
       "    </tr>\n",
       "  </tbody>\n",
       "</table>\n",
       "</div>"
      ],
      "text/plain": [
       "                                               Title Ratings   Price\n",
       "0  Lenovo IdeaPad Slim 3 Intel Core i7 12th Gen 1...     493  62,990\n",
       "1  Acer Aspire Lite 12th Gen Intel Core i7-1255U ...     393  54,990\n",
       "2  Dell Inspiron 7420 2in1 Laptop, Intel Core i7-...      72  77,490\n",
       "3  MSI Modern 14, Intel 12th Gen. i7-1255U, 36CM ...     109  54,990\n",
       "4  HP Laptop 15s, 12th Gen Intel Core i7-1255U, 1...      59  63,990\n",
       "5  ASUS Vivobook 15, IntelCore i7-12650H 12th Gen...     244  57,990\n",
       "6  ASUS TUF Gaming F15, 15.6\"(39.62 cms) FHD 144H...     286  72,990\n",
       "7  HP Pavilion 14 12th Gen Intel Core i7 16GB SDR...     696  77,700\n",
       "8  Acer Travelmate Business Laptop Intel Core i7-...      34  47,990\n",
       "9  Samsung Galaxy Book3 Core i7 13th Gen 1355U - ...     103  64,990"
      ]
     },
     "execution_count": 50,
     "metadata": {},
     "output_type": "execute_result"
    }
   ],
   "source": [
    "# Forming the DataFrame from scrapped elements\n",
    "df = pd.DataFrame(d)\n",
    "df"
   ]
  },
  {
   "cell_type": "markdown",
   "id": "96c81690-f4a6-4455-ac58-2197e9588bb4",
   "metadata": {},
   "source": [
    "Question 6"
   ]
  },
  {
   "cell_type": "code",
   "execution_count": 51,
   "id": "34285162-cb9f-45ff-ac1e-4f762b74d8b3",
   "metadata": {
    "tags": []
   },
   "outputs": [],
   "source": [
    "# Open the window with the website\n",
    "url = \"https://www.azquotes.com/\"\n",
    "driver = webdriver.Chrome()\n",
    "driver.get(url)"
   ]
  },
  {
   "cell_type": "code",
   "execution_count": 52,
   "id": "35a80975-f758-45d6-b539-8d6d742b1e3d",
   "metadata": {
    "tags": []
   },
   "outputs": [],
   "source": [
    "# Searching for specific elemenys in the page as asked in question\n",
    "top = driver.find_element(By.XPATH,'//div[@class=\"mainmenu\"]/ul/li[5]')\n",
    "top.click()"
   ]
  },
  {
   "cell_type": "code",
   "execution_count": 53,
   "id": "61a42c4d-47cf-49af-8d91-c5dee4dbab81",
   "metadata": {
    "tags": []
   },
   "outputs": [],
   "source": [
    "# Initializing empty list to capture elements\n",
    "quote = []\n",
    "auth = []\n",
    "qtype = []"
   ]
  },
  {
   "cell_type": "code",
   "execution_count": 54,
   "id": "90ce4b43-b781-40bd-bdb9-780ec645e427",
   "metadata": {
    "tags": []
   },
   "outputs": [],
   "source": [
    "# Traversing through multiple pages and extract elements as needed\n",
    "start = 0\n",
    "end = 9\n",
    "for i in range(start,end):\n",
    "    for i in driver.find_elements(By.XPATH, '//a[@class=\"title\"]'):\n",
    "        quote.append(i.text)\n",
    "    for i in driver.find_elements(By.XPATH, '//div[@class=\"author\"]'):\n",
    "        auth.append(i.text)\n",
    "    for i in driver.find_elements(By.XPATH, '//div[@class=\"tags\"]'):\n",
    "        qtype.append(i.text)\n",
    "    button = driver.find_element(By.XPATH,'//li[@class=\"next\"]')\n",
    "    button.click()\n",
    "    time.sleep(3)"
   ]
  },
  {
   "cell_type": "code",
   "execution_count": 55,
   "id": "95eda853-167c-4448-8e05-3e076e9e4de8",
   "metadata": {
    "tags": []
   },
   "outputs": [],
   "source": [
    "# Final page dosen't have Next button hence we repeat the scrapping one more time\n",
    "for i in driver.find_elements(By.XPATH, '//a[@class=\"title\"]'):\n",
    "    quote.append(i.text)\n",
    "for i in driver.find_elements(By.XPATH, '//div[@class=\"author\"]'):\n",
    "    auth.append(i.text)\n",
    "for i in driver.find_elements(By.XPATH, '//div[@class=\"tags\"]'):\n",
    "    qtype.append(i.text)"
   ]
  },
  {
   "cell_type": "code",
   "execution_count": 56,
   "id": "da2bba9d-5abf-406d-afee-03b0963bc4df",
   "metadata": {
    "tags": []
   },
   "outputs": [
    {
     "data": {
      "text/html": [
       "<div>\n",
       "<style scoped>\n",
       "    .dataframe tbody tr th:only-of-type {\n",
       "        vertical-align: middle;\n",
       "    }\n",
       "\n",
       "    .dataframe tbody tr th {\n",
       "        vertical-align: top;\n",
       "    }\n",
       "\n",
       "    .dataframe thead th {\n",
       "        text-align: right;\n",
       "    }\n",
       "</style>\n",
       "<table border=\"1\" class=\"dataframe\">\n",
       "  <thead>\n",
       "    <tr style=\"text-align: right;\">\n",
       "      <th></th>\n",
       "      <th>Quote</th>\n",
       "      <th>Author</th>\n",
       "      <th>Quote Type</th>\n",
       "    </tr>\n",
       "  </thead>\n",
       "  <tbody>\n",
       "    <tr>\n",
       "      <th>0</th>\n",
       "      <td>The essence of strategy is choosing what not t...</td>\n",
       "      <td>Michael Porter</td>\n",
       "      <td>Essence, Deep Thought, Transcendentalism</td>\n",
       "    </tr>\n",
       "    <tr>\n",
       "      <th>1</th>\n",
       "      <td>One cannot and must not try to erase the past ...</td>\n",
       "      <td>Golda Meir</td>\n",
       "      <td>Inspiration, Past, Trying</td>\n",
       "    </tr>\n",
       "    <tr>\n",
       "      <th>2</th>\n",
       "      <td>Patriotism means to stand by the country. It d...</td>\n",
       "      <td>Theodore Roosevelt</td>\n",
       "      <td>Country, Peace, War</td>\n",
       "    </tr>\n",
       "    <tr>\n",
       "      <th>3</th>\n",
       "      <td>Death is something inevitable. When a man has ...</td>\n",
       "      <td>Nelson Mandela</td>\n",
       "      <td>Inspirational, Motivational, Death</td>\n",
       "    </tr>\n",
       "    <tr>\n",
       "      <th>4</th>\n",
       "      <td>You have to love a nation that celebrates its ...</td>\n",
       "      <td>Erma Bombeck</td>\n",
       "      <td>4th Of July, Food, Patriotic</td>\n",
       "    </tr>\n",
       "    <tr>\n",
       "      <th>...</th>\n",
       "      <td>...</td>\n",
       "      <td>...</td>\n",
       "      <td>...</td>\n",
       "    </tr>\n",
       "    <tr>\n",
       "      <th>995</th>\n",
       "      <td>Regret for the things we did can be tempered b...</td>\n",
       "      <td>Sydney J. Harris</td>\n",
       "      <td>Love, Inspirational, Motivational</td>\n",
       "    </tr>\n",
       "    <tr>\n",
       "      <th>996</th>\n",
       "      <td>America... just a nation of two hundred millio...</td>\n",
       "      <td>Hunter S. Thompson</td>\n",
       "      <td>Gun, Two, Qualms About</td>\n",
       "    </tr>\n",
       "    <tr>\n",
       "      <th>997</th>\n",
       "      <td>For every disciplined effort there is a multip...</td>\n",
       "      <td>Jim Rohn</td>\n",
       "      <td>Inspirational, Greatness, Best Effort</td>\n",
       "    </tr>\n",
       "    <tr>\n",
       "      <th>998</th>\n",
       "      <td>The spiritual journey is individual, highly pe...</td>\n",
       "      <td>Ram Dass</td>\n",
       "      <td>Spiritual, Truth, Yoga</td>\n",
       "    </tr>\n",
       "    <tr>\n",
       "      <th>999</th>\n",
       "      <td>The mind is not a vessel to be filled but a fi...</td>\n",
       "      <td>Plutarch</td>\n",
       "      <td>Inspirational, Leadership, Education</td>\n",
       "    </tr>\n",
       "  </tbody>\n",
       "</table>\n",
       "<p>1000 rows × 3 columns</p>\n",
       "</div>"
      ],
      "text/plain": [
       "                                                 Quote              Author  \\\n",
       "0    The essence of strategy is choosing what not t...      Michael Porter   \n",
       "1    One cannot and must not try to erase the past ...          Golda Meir   \n",
       "2    Patriotism means to stand by the country. It d...  Theodore Roosevelt   \n",
       "3    Death is something inevitable. When a man has ...      Nelson Mandela   \n",
       "4    You have to love a nation that celebrates its ...        Erma Bombeck   \n",
       "..                                                 ...                 ...   \n",
       "995  Regret for the things we did can be tempered b...    Sydney J. Harris   \n",
       "996  America... just a nation of two hundred millio...  Hunter S. Thompson   \n",
       "997  For every disciplined effort there is a multip...            Jim Rohn   \n",
       "998  The spiritual journey is individual, highly pe...            Ram Dass   \n",
       "999  The mind is not a vessel to be filled but a fi...            Plutarch   \n",
       "\n",
       "                                   Quote Type  \n",
       "0    Essence, Deep Thought, Transcendentalism  \n",
       "1                   Inspiration, Past, Trying  \n",
       "2                         Country, Peace, War  \n",
       "3          Inspirational, Motivational, Death  \n",
       "4                4th Of July, Food, Patriotic  \n",
       "..                                        ...  \n",
       "995         Love, Inspirational, Motivational  \n",
       "996                    Gun, Two, Qualms About  \n",
       "997     Inspirational, Greatness, Best Effort  \n",
       "998                    Spiritual, Truth, Yoga  \n",
       "999      Inspirational, Leadership, Education  \n",
       "\n",
       "[1000 rows x 3 columns]"
      ]
     },
     "execution_count": 56,
     "metadata": {},
     "output_type": "execute_result"
    }
   ],
   "source": [
    "# Forming the DataFrame from scrapped elements\n",
    "df = pd.DataFrame({\"Quote\":quote,\"Author\":auth,\"Quote Type\":qtype})\n",
    "df"
   ]
  },
  {
   "cell_type": "code",
   "execution_count": null,
   "id": "b3ed3e70-b4e7-4432-b2ab-027b80fa6a4b",
   "metadata": {},
   "outputs": [],
   "source": [
    "Question 7"
   ]
  },
  {
   "cell_type": "code",
   "execution_count": 57,
   "id": "649d6303-8031-4547-95ce-17727983ad3d",
   "metadata": {
    "tags": []
   },
   "outputs": [],
   "source": [
    "# Open the window with the website\n",
    "url = \"https://www.jagranjosh.com/general-knowledge/list-of-all-prime-ministers-of-india-1473165149-1\"\n",
    "driver = webdriver.Chrome()\n",
    "driver.get(url)"
   ]
  },
  {
   "cell_type": "code",
   "execution_count": 58,
   "id": "5f9b6882-3d66-4479-a350-6e0d84f8d1ff",
   "metadata": {
    "tags": []
   },
   "outputs": [],
   "source": [
    "# Initializing empty list to capture elements\n",
    "name = []\n",
    "dob = []\n",
    "term = []\n",
    "remark = []"
   ]
  },
  {
   "cell_type": "code",
   "execution_count": null,
   "id": "cfb9b684-5554-44a6-9b27-df93b3adc9a9",
   "metadata": {},
   "outputs": [],
   "source": [
    "for i in driver.find_elements(By.XPATH, '//div[@class=\"TableData\"]/table/tbody/tr/td[2]'):\n",
    "    name.append(i.text)\n",
    "    \n",
    "### Unable To Extract Elements from the tabe. The Kernal stops responding the moment the script is run"
   ]
  },
  {
   "cell_type": "code",
   "execution_count": null,
   "id": "d6c9dc01-c123-48a1-8fbc-f67e88269682",
   "metadata": {},
   "outputs": [],
   "source": [
    "Question 8"
   ]
  },
  {
   "cell_type": "code",
   "execution_count": 60,
   "id": "f6485c6d-2388-4be9-8a39-7369b5ec65a4",
   "metadata": {},
   "outputs": [],
   "source": [
    "# Open the window with the website\n",
    "url = \"https://www.motor1.com/features/308149/most-expensive-new-cars-ever/\"\n",
    "driver = webdriver.Chrome()\n",
    "driver.get(url)"
   ]
  },
  {
   "cell_type": "code",
   "execution_count": 61,
   "id": "f603e69f-3e71-4d28-8ab7-f7648958ea34",
   "metadata": {
    "tags": []
   },
   "outputs": [],
   "source": [
    "# Initializing empty list to capture elements\n",
    "cars = []\n",
    "name = []\n",
    "price = []"
   ]
  },
  {
   "cell_type": "code",
   "execution_count": 62,
   "id": "e87c5d67-5a67-4583-bf36-acc00d3914e4",
   "metadata": {
    "tags": []
   },
   "outputs": [],
   "source": [
    "for i in driver.find_elements(By.XPATH, '//div[@class=\"postBody description e-content\"]/ul/li'):\n",
    "    cars.append(i.text)"
   ]
  },
  {
   "cell_type": "code",
   "execution_count": 67,
   "id": "24c64c13-f6d9-427a-bb60-91cd91e66b34",
   "metadata": {
    "tags": []
   },
   "outputs": [],
   "source": [
    "###Unable to clean the data as it has some values seperated by \"-\" & some by \":\""
   ]
  }
 ],
 "metadata": {
  "kernelspec": {
   "display_name": "Python 3 (ipykernel)",
   "language": "python",
   "name": "python3"
  },
  "language_info": {
   "codemirror_mode": {
    "name": "ipython",
    "version": 3
   },
   "file_extension": ".py",
   "mimetype": "text/x-python",
   "name": "python",
   "nbconvert_exporter": "python",
   "pygments_lexer": "ipython3",
   "version": "3.11.4"
  }
 },
 "nbformat": 4,
 "nbformat_minor": 5
}
