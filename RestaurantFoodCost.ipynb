{
 "cells": [
  {
   "cell_type": "code",
   "execution_count": 1,
   "id": "d7282d9c",
   "metadata": {},
   "outputs": [],
   "source": [
    "import numpy as np\n",
    "import seaborn as sns\n",
    "import matplotlib.pyplot as plt\n",
    "import pandas as pd\n",
    "import warnings\n",
    "warnings.filterwarnings('ignore')"
   ]
  },
  {
   "cell_type": "code",
   "execution_count": 2,
   "id": "bd10f258",
   "metadata": {},
   "outputs": [],
   "source": [
    "df = pd.read_excel('https://raw.githubusercontent.com/FlipRoboTechnologies/ML-Datasets/main/Restaurant%20Food%20Cost/Data_Train.xlsx')"
   ]
  },
  {
   "cell_type": "code",
   "execution_count": 3,
   "id": "4a41a61a",
   "metadata": {},
   "outputs": [
    {
     "data": {
      "text/html": [
       "<div>\n",
       "<style scoped>\n",
       "    .dataframe tbody tr th:only-of-type {\n",
       "        vertical-align: middle;\n",
       "    }\n",
       "\n",
       "    .dataframe tbody tr th {\n",
       "        vertical-align: top;\n",
       "    }\n",
       "\n",
       "    .dataframe thead th {\n",
       "        text-align: right;\n",
       "    }\n",
       "</style>\n",
       "<table border=\"1\" class=\"dataframe\">\n",
       "  <thead>\n",
       "    <tr style=\"text-align: right;\">\n",
       "      <th></th>\n",
       "      <th>TITLE</th>\n",
       "      <th>RESTAURANT_ID</th>\n",
       "      <th>CUISINES</th>\n",
       "      <th>TIME</th>\n",
       "      <th>CITY</th>\n",
       "      <th>LOCALITY</th>\n",
       "      <th>RATING</th>\n",
       "      <th>VOTES</th>\n",
       "      <th>COST</th>\n",
       "    </tr>\n",
       "  </thead>\n",
       "  <tbody>\n",
       "    <tr>\n",
       "      <th>0</th>\n",
       "      <td>CASUAL DINING</td>\n",
       "      <td>9438</td>\n",
       "      <td>Malwani, Goan, North Indian</td>\n",
       "      <td>11am – 4pm, 7:30pm – 11:30pm (Mon-Sun)</td>\n",
       "      <td>Thane</td>\n",
       "      <td>Dombivali East</td>\n",
       "      <td>3.6</td>\n",
       "      <td>49 votes</td>\n",
       "      <td>1200</td>\n",
       "    </tr>\n",
       "    <tr>\n",
       "      <th>1</th>\n",
       "      <td>CASUAL DINING,BAR</td>\n",
       "      <td>13198</td>\n",
       "      <td>Asian, Modern Indian, Japanese</td>\n",
       "      <td>6pm – 11pm (Mon-Sun)</td>\n",
       "      <td>Chennai</td>\n",
       "      <td>Ramapuram</td>\n",
       "      <td>4.2</td>\n",
       "      <td>30 votes</td>\n",
       "      <td>1500</td>\n",
       "    </tr>\n",
       "    <tr>\n",
       "      <th>2</th>\n",
       "      <td>CASUAL DINING</td>\n",
       "      <td>10915</td>\n",
       "      <td>North Indian, Chinese, Biryani, Hyderabadi</td>\n",
       "      <td>11am – 3:30pm, 7pm – 11pm (Mon-Sun)</td>\n",
       "      <td>Chennai</td>\n",
       "      <td>Saligramam</td>\n",
       "      <td>3.8</td>\n",
       "      <td>221 votes</td>\n",
       "      <td>800</td>\n",
       "    </tr>\n",
       "    <tr>\n",
       "      <th>3</th>\n",
       "      <td>QUICK BITES</td>\n",
       "      <td>6346</td>\n",
       "      <td>Tibetan, Chinese</td>\n",
       "      <td>11:30am – 1am (Mon-Sun)</td>\n",
       "      <td>Mumbai</td>\n",
       "      <td>Bandra West</td>\n",
       "      <td>4.1</td>\n",
       "      <td>24 votes</td>\n",
       "      <td>800</td>\n",
       "    </tr>\n",
       "    <tr>\n",
       "      <th>4</th>\n",
       "      <td>DESSERT PARLOR</td>\n",
       "      <td>15387</td>\n",
       "      <td>Desserts</td>\n",
       "      <td>11am – 1am (Mon-Sun)</td>\n",
       "      <td>Mumbai</td>\n",
       "      <td>Lower Parel</td>\n",
       "      <td>3.8</td>\n",
       "      <td>165 votes</td>\n",
       "      <td>300</td>\n",
       "    </tr>\n",
       "  </tbody>\n",
       "</table>\n",
       "</div>"
      ],
      "text/plain": [
       "               TITLE  RESTAURANT_ID  \\\n",
       "0      CASUAL DINING           9438   \n",
       "1  CASUAL DINING,BAR          13198   \n",
       "2      CASUAL DINING          10915   \n",
       "3        QUICK BITES           6346   \n",
       "4     DESSERT PARLOR          15387   \n",
       "\n",
       "                                     CUISINES  \\\n",
       "0                 Malwani, Goan, North Indian   \n",
       "1              Asian, Modern Indian, Japanese   \n",
       "2  North Indian, Chinese, Biryani, Hyderabadi   \n",
       "3                            Tibetan, Chinese   \n",
       "4                                    Desserts   \n",
       "\n",
       "                                     TIME     CITY        LOCALITY RATING  \\\n",
       "0  11am – 4pm, 7:30pm – 11:30pm (Mon-Sun)    Thane  Dombivali East    3.6   \n",
       "1                    6pm – 11pm (Mon-Sun)  Chennai       Ramapuram    4.2   \n",
       "2     11am – 3:30pm, 7pm – 11pm (Mon-Sun)  Chennai      Saligramam    3.8   \n",
       "3                 11:30am – 1am (Mon-Sun)   Mumbai     Bandra West    4.1   \n",
       "4                    11am – 1am (Mon-Sun)   Mumbai     Lower Parel    3.8   \n",
       "\n",
       "       VOTES  COST  \n",
       "0   49 votes  1200  \n",
       "1   30 votes  1500  \n",
       "2  221 votes   800  \n",
       "3   24 votes   800  \n",
       "4  165 votes   300  "
      ]
     },
     "execution_count": 3,
     "metadata": {},
     "output_type": "execute_result"
    }
   ],
   "source": [
    "df.head()"
   ]
  },
  {
   "cell_type": "code",
   "execution_count": 4,
   "id": "ee84c390",
   "metadata": {},
   "outputs": [
    {
     "data": {
      "text/plain": [
       "(12690, 9)"
      ]
     },
     "execution_count": 4,
     "metadata": {},
     "output_type": "execute_result"
    }
   ],
   "source": [
    "df.shape"
   ]
  },
  {
   "cell_type": "code",
   "execution_count": 5,
   "id": "2249f9bc",
   "metadata": {},
   "outputs": [
    {
     "data": {
      "text/plain": [
       "TITLE            object\n",
       "RESTAURANT_ID     int64\n",
       "CUISINES         object\n",
       "TIME             object\n",
       "CITY             object\n",
       "LOCALITY         object\n",
       "RATING           object\n",
       "VOTES            object\n",
       "COST              int64\n",
       "dtype: object"
      ]
     },
     "execution_count": 5,
     "metadata": {},
     "output_type": "execute_result"
    }
   ],
   "source": [
    "df.dtypes"
   ]
  },
  {
   "cell_type": "code",
   "execution_count": 6,
   "id": "ac682dc1",
   "metadata": {},
   "outputs": [
    {
     "data": {
      "text/plain": [
       "TITLE               0\n",
       "RESTAURANT_ID       0\n",
       "CUISINES            0\n",
       "TIME                0\n",
       "CITY              112\n",
       "LOCALITY           98\n",
       "RATING              2\n",
       "VOTES            1204\n",
       "COST                0\n",
       "dtype: int64"
      ]
     },
     "execution_count": 6,
     "metadata": {},
     "output_type": "execute_result"
    }
   ],
   "source": [
    "df.isnull().sum()"
   ]
  },
  {
   "cell_type": "code",
   "execution_count": 7,
   "id": "e797b805",
   "metadata": {},
   "outputs": [],
   "source": [
    "df['CITY'].fillna(df['CITY'].mode()[0], inplace = True)\n",
    "df['LOCALITY'].fillna(df['LOCALITY'].mode()[0], inplace = True)\n",
    "df['RATING'].fillna(df['RATING'].mode()[0], inplace = True)\n",
    "df['VOTES'].fillna(df['VOTES'].mode()[0], inplace = True)"
   ]
  },
  {
   "cell_type": "code",
   "execution_count": 8,
   "id": "038217b1",
   "metadata": {},
   "outputs": [
    {
     "data": {
      "text/plain": [
       "TITLE            0\n",
       "RESTAURANT_ID    0\n",
       "CUISINES         0\n",
       "TIME             0\n",
       "CITY             0\n",
       "LOCALITY         0\n",
       "RATING           0\n",
       "VOTES            0\n",
       "COST             0\n",
       "dtype: int64"
      ]
     },
     "execution_count": 8,
     "metadata": {},
     "output_type": "execute_result"
    }
   ],
   "source": [
    "df.isnull().sum()"
   ]
  },
  {
   "cell_type": "code",
   "execution_count": 9,
   "id": "b880ea00",
   "metadata": {},
   "outputs": [
    {
     "data": {
      "text/plain": [
       "TITLE              113\n",
       "RESTAURANT_ID    11892\n",
       "CUISINES          4155\n",
       "TIME              2689\n",
       "CITY               359\n",
       "LOCALITY          1416\n",
       "RATING              32\n",
       "VOTES             1847\n",
       "COST                86\n",
       "dtype: int64"
      ]
     },
     "execution_count": 9,
     "metadata": {},
     "output_type": "execute_result"
    }
   ],
   "source": [
    "df.nunique()"
   ]
  },
  {
   "cell_type": "code",
   "execution_count": 10,
   "id": "23c53a70",
   "metadata": {},
   "outputs": [
    {
     "data": {
      "text/html": [
       "<div>\n",
       "<style scoped>\n",
       "    .dataframe tbody tr th:only-of-type {\n",
       "        vertical-align: middle;\n",
       "    }\n",
       "\n",
       "    .dataframe tbody tr th {\n",
       "        vertical-align: top;\n",
       "    }\n",
       "\n",
       "    .dataframe thead th {\n",
       "        text-align: right;\n",
       "    }\n",
       "</style>\n",
       "<table border=\"1\" class=\"dataframe\">\n",
       "  <thead>\n",
       "    <tr style=\"text-align: right;\">\n",
       "      <th></th>\n",
       "      <th>RESTAURANT_ID</th>\n",
       "      <th>COST</th>\n",
       "    </tr>\n",
       "  </thead>\n",
       "  <tbody>\n",
       "    <tr>\n",
       "      <th>count</th>\n",
       "      <td>12690.000000</td>\n",
       "      <td>12690.000000</td>\n",
       "    </tr>\n",
       "    <tr>\n",
       "      <th>mean</th>\n",
       "      <td>7759.134121</td>\n",
       "      <td>655.252246</td>\n",
       "    </tr>\n",
       "    <tr>\n",
       "      <th>std</th>\n",
       "      <td>4504.874150</td>\n",
       "      <td>627.003540</td>\n",
       "    </tr>\n",
       "    <tr>\n",
       "      <th>min</th>\n",
       "      <td>0.000000</td>\n",
       "      <td>20.000000</td>\n",
       "    </tr>\n",
       "    <tr>\n",
       "      <th>25%</th>\n",
       "      <td>3863.250000</td>\n",
       "      <td>300.000000</td>\n",
       "    </tr>\n",
       "    <tr>\n",
       "      <th>50%</th>\n",
       "      <td>7740.000000</td>\n",
       "      <td>500.000000</td>\n",
       "    </tr>\n",
       "    <tr>\n",
       "      <th>75%</th>\n",
       "      <td>11688.750000</td>\n",
       "      <td>800.000000</td>\n",
       "    </tr>\n",
       "    <tr>\n",
       "      <th>max</th>\n",
       "      <td>15573.000000</td>\n",
       "      <td>14000.000000</td>\n",
       "    </tr>\n",
       "  </tbody>\n",
       "</table>\n",
       "</div>"
      ],
      "text/plain": [
       "       RESTAURANT_ID          COST\n",
       "count   12690.000000  12690.000000\n",
       "mean     7759.134121    655.252246\n",
       "std      4504.874150    627.003540\n",
       "min         0.000000     20.000000\n",
       "25%      3863.250000    300.000000\n",
       "50%      7740.000000    500.000000\n",
       "75%     11688.750000    800.000000\n",
       "max     15573.000000  14000.000000"
      ]
     },
     "execution_count": 10,
     "metadata": {},
     "output_type": "execute_result"
    }
   ],
   "source": [
    "df.describe()"
   ]
  },
  {
   "cell_type": "code",
   "execution_count": 16,
   "id": "944721c9",
   "metadata": {},
   "outputs": [
    {
     "data": {
      "image/png": "[encoded data removed]",
      "text/plain": [
       "<Figure size 640x480 with 1 Axes>"
      ]
     },
     "metadata": {},
     "output_type": "display_data"
    }
   ],
   "source": [
    "sns.barplot(x='COST',y='CITY',data=df,palette='colorblind')\n",
    "plt.show()"
   ]
  },
  {
   "cell_type": "code",
   "execution_count": 17,
   "id": "6555c230",
   "metadata": {},
   "outputs": [
    {
     "data": {
      "image/png": "[encoded data removed]",
      "text/plain": [
       "<Figure size 640x480 with 1 Axes>"
      ]
     },
     "metadata": {},
     "output_type": "display_data"
    }
   ],
   "source": [
    "sns.barplot(x='COST',y='CUISINES',data=df,palette='colorblind')\n",
    "plt.show()"
   ]
  },
  {
   "cell_type": "code",
   "execution_count": 18,
   "id": "5de4282f",
   "metadata": {},
   "outputs": [
    {
     "data": {
      "image/png": "[encoded data removed]",
      "text/plain": [
       "<Figure size 640x480 with 1 Axes>"
      ]
     },
     "metadata": {},
     "output_type": "display_data"
    }
   ],
   "source": [
    "sns.barplot(x='COST',y='RATING',data=df,palette='colorblind')\n",
    "plt.show()"
   ]
  },
  {
   "cell_type": "code",
   "execution_count": 19,
   "id": "7237831e",
   "metadata": {},
   "outputs": [
    {
     "data": {
      "text/html": [
       "<div>\n",
       "<style scoped>\n",
       "    .dataframe tbody tr th:only-of-type {\n",
       "        vertical-align: middle;\n",
       "    }\n",
       "\n",
       "    .dataframe tbody tr th {\n",
       "        vertical-align: top;\n",
       "    }\n",
       "\n",
       "    .dataframe thead th {\n",
       "        text-align: right;\n",
       "    }\n",
       "</style>\n",
       "<table border=\"1\" class=\"dataframe\">\n",
       "  <thead>\n",
       "    <tr style=\"text-align: right;\">\n",
       "      <th></th>\n",
       "      <th>TITLE</th>\n",
       "      <th>RESTAURANT_ID</th>\n",
       "      <th>CUISINES</th>\n",
       "      <th>TIME</th>\n",
       "      <th>CITY</th>\n",
       "      <th>LOCALITY</th>\n",
       "      <th>RATING</th>\n",
       "      <th>VOTES</th>\n",
       "      <th>COST</th>\n",
       "    </tr>\n",
       "  </thead>\n",
       "  <tbody>\n",
       "    <tr>\n",
       "      <th>0</th>\n",
       "      <td>31.0</td>\n",
       "      <td>9438</td>\n",
       "      <td>2627.0</td>\n",
       "      <td>739.0</td>\n",
       "      <td>320.0</td>\n",
       "      <td>285.0</td>\n",
       "      <td>17.0</td>\n",
       "      <td>1278.0</td>\n",
       "      <td>1200</td>\n",
       "    </tr>\n",
       "    <tr>\n",
       "      <th>1</th>\n",
       "      <td>33.0</td>\n",
       "      <td>13198</td>\n",
       "      <td>289.0</td>\n",
       "      <td>1885.0</td>\n",
       "      <td>67.0</td>\n",
       "      <td>1046.0</td>\n",
       "      <td>23.0</td>\n",
       "      <td>950.0</td>\n",
       "      <td>1500</td>\n",
       "    </tr>\n",
       "    <tr>\n",
       "      <th>2</th>\n",
       "      <td>31.0</td>\n",
       "      <td>10915</td>\n",
       "      <td>2976.0</td>\n",
       "      <td>661.0</td>\n",
       "      <td>67.0</td>\n",
       "      <td>1101.0</td>\n",
       "      <td>19.0</td>\n",
       "      <td>712.0</td>\n",
       "      <td>800</td>\n",
       "    </tr>\n",
       "    <tr>\n",
       "      <th>3</th>\n",
       "      <td>95.0</td>\n",
       "      <td>6346</td>\n",
       "      <td>4130.0</td>\n",
       "      <td>275.0</td>\n",
       "      <td>222.0</td>\n",
       "      <td>136.0</td>\n",
       "      <td>22.0</td>\n",
       "      <td>787.0</td>\n",
       "      <td>800</td>\n",
       "    </tr>\n",
       "    <tr>\n",
       "      <th>4</th>\n",
       "      <td>50.0</td>\n",
       "      <td>15387</td>\n",
       "      <td>1766.0</td>\n",
       "      <td>615.0</td>\n",
       "      <td>222.0</td>\n",
       "      <td>620.0</td>\n",
       "      <td>19.0</td>\n",
       "      <td>470.0</td>\n",
       "      <td>300</td>\n",
       "    </tr>\n",
       "    <tr>\n",
       "      <th>...</th>\n",
       "      <td>...</td>\n",
       "      <td>...</td>\n",
       "      <td>...</td>\n",
       "      <td>...</td>\n",
       "      <td>...</td>\n",
       "      <td>...</td>\n",
       "      <td>...</td>\n",
       "      <td>...</td>\n",
       "      <td>...</td>\n",
       "    </tr>\n",
       "    <tr>\n",
       "      <th>12685</th>\n",
       "      <td>95.0</td>\n",
       "      <td>13228</td>\n",
       "      <td>2934.0</td>\n",
       "      <td>1144.0</td>\n",
       "      <td>131.0</td>\n",
       "      <td>342.0</td>\n",
       "      <td>19.0</td>\n",
       "      <td>1349.0</td>\n",
       "      <td>500</td>\n",
       "    </tr>\n",
       "    <tr>\n",
       "      <th>12686</th>\n",
       "      <td>33.0</td>\n",
       "      <td>9686</td>\n",
       "      <td>2143.0</td>\n",
       "      <td>1177.0</td>\n",
       "      <td>222.0</td>\n",
       "      <td>133.0</td>\n",
       "      <td>24.0</td>\n",
       "      <td>191.0</td>\n",
       "      <td>1800</td>\n",
       "    </tr>\n",
       "    <tr>\n",
       "      <th>12687</th>\n",
       "      <td>71.0</td>\n",
       "      <td>11133</td>\n",
       "      <td>2088.0</td>\n",
       "      <td>1137.0</td>\n",
       "      <td>239.0</td>\n",
       "      <td>1342.0</td>\n",
       "      <td>21.0</td>\n",
       "      <td>1428.0</td>\n",
       "      <td>1300</td>\n",
       "    </tr>\n",
       "    <tr>\n",
       "      <th>12688</th>\n",
       "      <td>31.0</td>\n",
       "      <td>6134</td>\n",
       "      <td>3506.0</td>\n",
       "      <td>1837.0</td>\n",
       "      <td>67.0</td>\n",
       "      <td>631.0</td>\n",
       "      <td>16.0</td>\n",
       "      <td>996.0</td>\n",
       "      <td>400</td>\n",
       "    </tr>\n",
       "    <tr>\n",
       "      <th>12689</th>\n",
       "      <td>31.0</td>\n",
       "      <td>6430</td>\n",
       "      <td>2946.0</td>\n",
       "      <td>835.0</td>\n",
       "      <td>131.0</td>\n",
       "      <td>1333.0</td>\n",
       "      <td>15.0</td>\n",
       "      <td>1505.0</td>\n",
       "      <td>600</td>\n",
       "    </tr>\n",
       "  </tbody>\n",
       "</table>\n",
       "<p>12690 rows × 9 columns</p>\n",
       "</div>"
      ],
      "text/plain": [
       "       TITLE  RESTAURANT_ID  CUISINES    TIME   CITY  LOCALITY  RATING  \\\n",
       "0       31.0           9438    2627.0   739.0  320.0     285.0    17.0   \n",
       "1       33.0          13198     289.0  1885.0   67.0    1046.0    23.0   \n",
       "2       31.0          10915    2976.0   661.0   67.0    1101.0    19.0   \n",
       "3       95.0           6346    4130.0   275.0  222.0     136.0    22.0   \n",
       "4       50.0          15387    1766.0   615.0  222.0     620.0    19.0   \n",
       "...      ...            ...       ...     ...    ...       ...     ...   \n",
       "12685   95.0          13228    2934.0  1144.0  131.0     342.0    19.0   \n",
       "12686   33.0           9686    2143.0  1177.0  222.0     133.0    24.0   \n",
       "12687   71.0          11133    2088.0  1137.0  239.0    1342.0    21.0   \n",
       "12688   31.0           6134    3506.0  1837.0   67.0     631.0    16.0   \n",
       "12689   31.0           6430    2946.0   835.0  131.0    1333.0    15.0   \n",
       "\n",
       "        VOTES  COST  \n",
       "0      1278.0  1200  \n",
       "1       950.0  1500  \n",
       "2       712.0   800  \n",
       "3       787.0   800  \n",
       "4       470.0   300  \n",
       "...       ...   ...  \n",
       "12685  1349.0   500  \n",
       "12686   191.0  1800  \n",
       "12687  1428.0  1300  \n",
       "12688   996.0   400  \n",
       "12689  1505.0   600  \n",
       "\n",
       "[12690 rows x 9 columns]"
      ]
     },
     "execution_count": 19,
     "metadata": {},
     "output_type": "execute_result"
    }
   ],
   "source": [
    "from sklearn.preprocessing import OrdinalEncoder\n",
    "oe = OrdinalEncoder()\n",
    "for i in df.columns:\n",
    "    if df[i].dtypes == 'object':\n",
    "        df[i] = oe.fit_transform(df[i].values.reshape(-1,1))\n",
    "df"
   ]
  },
  {
   "cell_type": "code",
   "execution_count": 20,
   "id": "fda7993c",
   "metadata": {},
   "outputs": [
    {
     "data": {
      "image/png": "[encoded data removed]",
      "text/plain": [
       "<Figure size 1000x600 with 9 Axes>"
      ]
     },
     "metadata": {},
     "output_type": "display_data"
    }
   ],
   "source": [
    "plt.figure(figsize = (10, 6), facecolor = \"white\")\n",
    "plotnumber = 1\n",
    "for c in df.columns:\n",
    "    if plotnumber <= 10:\n",
    "        x=plt.subplot(2,5,plotnumber)\n",
    "        sns.boxplot(df[c], palette = \"Set2_r\")\n",
    "        plt.xlabel(c, fontsize = 10)\n",
    "        plt.yticks(rotation = 0, fontsize = 10)\n",
    "    plotnumber+=1\n",
    "plt.tight_layout()"
   ]
  },
  {
   "cell_type": "code",
   "execution_count": 21,
   "id": "16ea46ca",
   "metadata": {},
   "outputs": [
    {
     "data": {
      "image/png": "[encoded data removed]",
      "text/plain": [
       "<Figure size 1000x600 with 9 Axes>"
      ]
     },
     "metadata": {},
     "output_type": "display_data"
    }
   ],
   "source": [
    "plt.figure(figsize = (10, 6), facecolor = \"white\")\n",
    "plotnumber = 1\n",
    "for c in df.columns:\n",
    "    if plotnumber <= 10:\n",
    "        x=plt.subplot(5,2,plotnumber)\n",
    "        sns.distplot(df[c],color = \"b\")\n",
    "        plt.xlabel(c, fontsize = 10)\n",
    "        plt.yticks(rotation = 0, fontsize = 10)\n",
    "    plotnumber+=1\n",
    "plt.tight_layout()"
   ]
  },
  {
   "cell_type": "code",
   "execution_count": 22,
   "id": "5a94bf1f",
   "metadata": {},
   "outputs": [
    {
     "data": {
      "text/plain": [
       "TITLE           -0.069803\n",
       "RESTAURANT_ID    0.006947\n",
       "CUISINES        -0.218782\n",
       "TIME             0.306186\n",
       "CITY             0.266332\n",
       "LOCALITY         0.352317\n",
       "RATING          -0.803390\n",
       "VOTES           -0.316806\n",
       "COST             3.978801\n",
       "dtype: float64"
      ]
     },
     "execution_count": 22,
     "metadata": {},
     "output_type": "execute_result"
    }
   ],
   "source": [
    "df.skew()"
   ]
  },
  {
   "cell_type": "code",
   "execution_count": 23,
   "id": "31caca2a",
   "metadata": {},
   "outputs": [],
   "source": [
    "df['COST']=np.cbrt(df['COST'])"
   ]
  },
  {
   "cell_type": "code",
   "execution_count": 24,
   "id": "e14bd0c3",
   "metadata": {},
   "outputs": [
    {
     "data": {
      "text/plain": [
       "TITLE           -0.069803\n",
       "RESTAURANT_ID    0.006947\n",
       "CUISINES        -0.218782\n",
       "TIME             0.306186\n",
       "CITY             0.266332\n",
       "LOCALITY         0.352317\n",
       "RATING          -0.803390\n",
       "VOTES           -0.316806\n",
       "COST             1.172684\n",
       "dtype: float64"
      ]
     },
     "execution_count": 24,
     "metadata": {},
     "output_type": "execute_result"
    }
   ],
   "source": [
    "df.skew()"
   ]
  },
  {
   "cell_type": "code",
   "execution_count": 25,
   "id": "eb5f567b",
   "metadata": {},
   "outputs": [],
   "source": [
    "df['COST']=np.sqrt(df['COST'])"
   ]
  },
  {
   "cell_type": "code",
   "execution_count": 26,
   "id": "b3b43f18",
   "metadata": {},
   "outputs": [
    {
     "data": {
      "text/plain": [
       "TITLE           -0.069803\n",
       "RESTAURANT_ID    0.006947\n",
       "CUISINES        -0.218782\n",
       "TIME             0.306186\n",
       "CITY             0.266332\n",
       "LOCALITY         0.352317\n",
       "RATING          -0.803390\n",
       "VOTES           -0.316806\n",
       "COST             0.765655\n",
       "dtype: float64"
      ]
     },
     "execution_count": 26,
     "metadata": {},
     "output_type": "execute_result"
    }
   ],
   "source": [
    "df.skew()"
   ]
  },
  {
   "cell_type": "code",
   "execution_count": 27,
   "id": "dd103abe",
   "metadata": {},
   "outputs": [
    {
     "data": {
      "image/png": "[encoded data removed]",
      "text/plain": [
       "<Figure size 640x480 with 2 Axes>"
      ]
     },
     "metadata": {},
     "output_type": "display_data"
    }
   ],
   "source": [
    "corr = df.corr()\n",
    "sns.heatmap(corr,annot=True,fmt='0.2f',cmap='Spectral')\n",
    "plt.show()"
   ]
  },
  {
   "cell_type": "code",
   "execution_count": 28,
   "id": "9b7aae28",
   "metadata": {},
   "outputs": [
    {
     "data": {
      "text/plain": [
       "COST             1.000000\n",
       "RATING           0.268283\n",
       "CITY             0.047921\n",
       "RESTAURANT_ID    0.044940\n",
       "LOCALITY        -0.016570\n",
       "VOTES           -0.024871\n",
       "TIME            -0.041752\n",
       "CUISINES        -0.042972\n",
       "TITLE           -0.378600\n",
       "Name: COST, dtype: float64"
      ]
     },
     "execution_count": 28,
     "metadata": {},
     "output_type": "execute_result"
    }
   ],
   "source": [
    "corr['COST'].sort_values(ascending = False)"
   ]
  },
  {
   "cell_type": "code",
   "execution_count": 29,
   "id": "34d0b8ad",
   "metadata": {},
   "outputs": [],
   "source": [
    "x = df.drop('COST', axis =1)\n",
    "y = df['COST']"
   ]
  },
  {
   "cell_type": "code",
   "execution_count": 30,
   "id": "c4ddce26",
   "metadata": {},
   "outputs": [
    {
     "data": {
      "text/html": [
       "<div>\n",
       "<style scoped>\n",
       "    .dataframe tbody tr th:only-of-type {\n",
       "        vertical-align: middle;\n",
       "    }\n",
       "\n",
       "    .dataframe tbody tr th {\n",
       "        vertical-align: top;\n",
       "    }\n",
       "\n",
       "    .dataframe thead th {\n",
       "        text-align: right;\n",
       "    }\n",
       "</style>\n",
       "<table border=\"1\" class=\"dataframe\">\n",
       "  <thead>\n",
       "    <tr style=\"text-align: right;\">\n",
       "      <th></th>\n",
       "      <th>TITLE</th>\n",
       "      <th>RESTAURANT_ID</th>\n",
       "      <th>CUISINES</th>\n",
       "      <th>TIME</th>\n",
       "      <th>CITY</th>\n",
       "      <th>LOCALITY</th>\n",
       "      <th>RATING</th>\n",
       "      <th>VOTES</th>\n",
       "    </tr>\n",
       "  </thead>\n",
       "  <tbody>\n",
       "    <tr>\n",
       "      <th>0</th>\n",
       "      <td>-0.868887</td>\n",
       "      <td>0.372692</td>\n",
       "      <td>0.325408</td>\n",
       "      <td>-0.584658</td>\n",
       "      <td>2.117762</td>\n",
       "      <td>-0.920549</td>\n",
       "      <td>-0.290547</td>\n",
       "      <td>0.593884</td>\n",
       "    </tr>\n",
       "    <tr>\n",
       "      <th>1</th>\n",
       "      <td>-0.807839</td>\n",
       "      <td>1.207377</td>\n",
       "      <td>-1.616381</td>\n",
       "      <td>0.934369</td>\n",
       "      <td>-0.897082</td>\n",
       "      <td>0.986239</td>\n",
       "      <td>0.680153</td>\n",
       "      <td>-0.085891</td>\n",
       "    </tr>\n",
       "    <tr>\n",
       "      <th>2</th>\n",
       "      <td>-0.868887</td>\n",
       "      <td>0.700572</td>\n",
       "      <td>0.615265</td>\n",
       "      <td>-0.688048</td>\n",
       "      <td>-0.897082</td>\n",
       "      <td>1.124048</td>\n",
       "      <td>0.033020</td>\n",
       "      <td>-0.579143</td>\n",
       "    </tr>\n",
       "    <tr>\n",
       "      <th>3</th>\n",
       "      <td>1.084647</td>\n",
       "      <td>-0.313702</td>\n",
       "      <td>1.573701</td>\n",
       "      <td>-1.199692</td>\n",
       "      <td>0.949957</td>\n",
       "      <td>-1.293888</td>\n",
       "      <td>0.518369</td>\n",
       "      <td>-0.423707</td>\n",
       "    </tr>\n",
       "    <tr>\n",
       "      <th>4</th>\n",
       "      <td>-0.288931</td>\n",
       "      <td>1.693314</td>\n",
       "      <td>-0.389682</td>\n",
       "      <td>-0.749021</td>\n",
       "      <td>0.949957</td>\n",
       "      <td>-0.081161</td>\n",
       "      <td>0.033020</td>\n",
       "      <td>-1.080685</td>\n",
       "    </tr>\n",
       "    <tr>\n",
       "      <th>...</th>\n",
       "      <td>...</td>\n",
       "      <td>...</td>\n",
       "      <td>...</td>\n",
       "      <td>...</td>\n",
       "      <td>...</td>\n",
       "      <td>...</td>\n",
       "      <td>...</td>\n",
       "      <td>...</td>\n",
       "    </tr>\n",
       "    <tr>\n",
       "      <th>12685</th>\n",
       "      <td>1.084647</td>\n",
       "      <td>1.214036</td>\n",
       "      <td>0.580382</td>\n",
       "      <td>-0.047829</td>\n",
       "      <td>-0.134433</td>\n",
       "      <td>-0.777728</td>\n",
       "      <td>0.033020</td>\n",
       "      <td>0.741031</td>\n",
       "    </tr>\n",
       "    <tr>\n",
       "      <th>12686</th>\n",
       "      <td>-0.807839</td>\n",
       "      <td>0.427746</td>\n",
       "      <td>-0.076570</td>\n",
       "      <td>-0.004088</td>\n",
       "      <td>0.949957</td>\n",
       "      <td>-1.301405</td>\n",
       "      <td>0.841936</td>\n",
       "      <td>-1.658909</td>\n",
       "    </tr>\n",
       "    <tr>\n",
       "      <th>12687</th>\n",
       "      <td>0.352072</td>\n",
       "      <td>0.748966</td>\n",
       "      <td>-0.122250</td>\n",
       "      <td>-0.057108</td>\n",
       "      <td>1.152535</td>\n",
       "      <td>1.727906</td>\n",
       "      <td>0.356586</td>\n",
       "      <td>0.904757</td>\n",
       "    </tr>\n",
       "    <tr>\n",
       "      <th>12688</th>\n",
       "      <td>-0.868887</td>\n",
       "      <td>-0.360764</td>\n",
       "      <td>1.055448</td>\n",
       "      <td>0.870745</td>\n",
       "      <td>-0.897082</td>\n",
       "      <td>-0.053599</td>\n",
       "      <td>-0.452330</td>\n",
       "      <td>0.009443</td>\n",
       "    </tr>\n",
       "    <tr>\n",
       "      <th>12689</th>\n",
       "      <td>-0.868887</td>\n",
       "      <td>-0.295055</td>\n",
       "      <td>0.590349</td>\n",
       "      <td>-0.457410</td>\n",
       "      <td>-0.134433</td>\n",
       "      <td>1.705355</td>\n",
       "      <td>-0.614114</td>\n",
       "      <td>1.064339</td>\n",
       "    </tr>\n",
       "  </tbody>\n",
       "</table>\n",
       "<p>12690 rows × 8 columns</p>\n",
       "</div>"
      ],
      "text/plain": [
       "          TITLE  RESTAURANT_ID  CUISINES      TIME      CITY  LOCALITY  \\\n",
       "0     -0.868887       0.372692  0.325408 -0.584658  2.117762 -0.920549   \n",
       "1     -0.807839       1.207377 -1.616381  0.934369 -0.897082  0.986239   \n",
       "2     -0.868887       0.700572  0.615265 -0.688048 -0.897082  1.124048   \n",
       "3      1.084647      -0.313702  1.573701 -1.199692  0.949957 -1.293888   \n",
       "4     -0.288931       1.693314 -0.389682 -0.749021  0.949957 -0.081161   \n",
       "...         ...            ...       ...       ...       ...       ...   \n",
       "12685  1.084647       1.214036  0.580382 -0.047829 -0.134433 -0.777728   \n",
       "12686 -0.807839       0.427746 -0.076570 -0.004088  0.949957 -1.301405   \n",
       "12687  0.352072       0.748966 -0.122250 -0.057108  1.152535  1.727906   \n",
       "12688 -0.868887      -0.360764  1.055448  0.870745 -0.897082 -0.053599   \n",
       "12689 -0.868887      -0.295055  0.590349 -0.457410 -0.134433  1.705355   \n",
       "\n",
       "         RATING     VOTES  \n",
       "0     -0.290547  0.593884  \n",
       "1      0.680153 -0.085891  \n",
       "2      0.033020 -0.579143  \n",
       "3      0.518369 -0.423707  \n",
       "4      0.033020 -1.080685  \n",
       "...         ...       ...  \n",
       "12685  0.033020  0.741031  \n",
       "12686  0.841936 -1.658909  \n",
       "12687  0.356586  0.904757  \n",
       "12688 -0.452330  0.009443  \n",
       "12689 -0.614114  1.064339  \n",
       "\n",
       "[12690 rows x 8 columns]"
      ]
     },
     "execution_count": 30,
     "metadata": {},
     "output_type": "execute_result"
    }
   ],
   "source": [
    "from sklearn.preprocessing import StandardScaler\n",
    "scaler = StandardScaler()\n",
    "x = pd.DataFrame(scaler.fit_transform(x), columns = x.columns)\n",
    "x"
   ]
  },
  {
   "cell_type": "code",
   "execution_count": 31,
   "id": "3f3c3f95",
   "metadata": {},
   "outputs": [
    {
     "data": {
      "text/html": [
       "<div>\n",
       "<style scoped>\n",
       "    .dataframe tbody tr th:only-of-type {\n",
       "        vertical-align: middle;\n",
       "    }\n",
       "\n",
       "    .dataframe tbody tr th {\n",
       "        vertical-align: top;\n",
       "    }\n",
       "\n",
       "    .dataframe thead th {\n",
       "        text-align: right;\n",
       "    }\n",
       "</style>\n",
       "<table border=\"1\" class=\"dataframe\">\n",
       "  <thead>\n",
       "    <tr style=\"text-align: right;\">\n",
       "      <th></th>\n",
       "      <th>VIF values</th>\n",
       "      <th>Features</th>\n",
       "    </tr>\n",
       "  </thead>\n",
       "  <tbody>\n",
       "    <tr>\n",
       "      <th>0</th>\n",
       "      <td>1.067022</td>\n",
       "      <td>TITLE</td>\n",
       "    </tr>\n",
       "    <tr>\n",
       "      <th>1</th>\n",
       "      <td>1.004661</td>\n",
       "      <td>RESTAURANT_ID</td>\n",
       "    </tr>\n",
       "    <tr>\n",
       "      <th>2</th>\n",
       "      <td>1.078877</td>\n",
       "      <td>CUISINES</td>\n",
       "    </tr>\n",
       "    <tr>\n",
       "      <th>3</th>\n",
       "      <td>1.013456</td>\n",
       "      <td>TIME</td>\n",
       "    </tr>\n",
       "    <tr>\n",
       "      <th>4</th>\n",
       "      <td>1.004052</td>\n",
       "      <td>CITY</td>\n",
       "    </tr>\n",
       "    <tr>\n",
       "      <th>5</th>\n",
       "      <td>1.003385</td>\n",
       "      <td>LOCALITY</td>\n",
       "    </tr>\n",
       "    <tr>\n",
       "      <th>6</th>\n",
       "      <td>1.005901</td>\n",
       "      <td>RATING</td>\n",
       "    </tr>\n",
       "    <tr>\n",
       "      <th>7</th>\n",
       "      <td>1.000791</td>\n",
       "      <td>VOTES</td>\n",
       "    </tr>\n",
       "  </tbody>\n",
       "</table>\n",
       "</div>"
      ],
      "text/plain": [
       "   VIF values       Features\n",
       "0    1.067022          TITLE\n",
       "1    1.004661  RESTAURANT_ID\n",
       "2    1.078877       CUISINES\n",
       "3    1.013456           TIME\n",
       "4    1.004052           CITY\n",
       "5    1.003385       LOCALITY\n",
       "6    1.005901         RATING\n",
       "7    1.000791          VOTES"
      ]
     },
     "execution_count": 31,
     "metadata": {},
     "output_type": "execute_result"
    }
   ],
   "source": [
    "from statsmodels.stats.outliers_influence import variance_inflation_factor\n",
    "vif = pd.DataFrame()\n",
    "vif['VIF values'] = [variance_inflation_factor(x.values,i) for i in range(len(x.columns))]\n",
    "vif['Features'] = x.columns\n",
    "vif"
   ]
  },
  {
   "cell_type": "code",
   "execution_count": 32,
   "id": "b726d27a",
   "metadata": {},
   "outputs": [],
   "source": [
    "from sklearn.model_selection import train_test_split\n",
    "from sklearn.metrics import r2_score\n",
    "from sklearn.metrics import mean_squared_error\n",
    "from sklearn.metrics import mean_absolute_error\n",
    "from sklearn.ensemble import GradientBoostingRegressor\n",
    "from sklearn.linear_model import LinearRegression\n",
    "from sklearn.ensemble import RandomForestRegressor\n",
    "from sklearn.tree import DecisionTreeRegressor\n",
    "from sklearn.neighbors import KNeighborsRegressor as KNN\n",
    "from sklearn.linear_model import Lasso, Ridge"
   ]
  },
  {
   "cell_type": "code",
   "execution_count": 33,
   "id": "17743cba",
   "metadata": {},
   "outputs": [
    {
     "name": "stdout",
     "output_type": "stream",
     "text": [
      "0.234285804256275  at  119\n"
     ]
    }
   ],
   "source": [
    "maxAccu = 0\n",
    "maxRS = 0\n",
    "for i in range(1,200):\n",
    "    x_train, x_test, y_train, y_test = train_test_split(x,y,test_size=0.3, random_state=i)\n",
    "    lr = LinearRegression()\n",
    "    lr.fit(x_train,y_train)\n",
    "    pred = lr.predict(x_test)\n",
    "    acc = r2_score(y_test,pred)\n",
    "    if acc>maxAccu:\n",
    "        maxAccu = acc\n",
    "        maxRS = i\n",
    "        \n",
    "print(maxAccu,\" at \",maxRS)"
   ]
  },
  {
   "cell_type": "code",
   "execution_count": 34,
   "id": "35ee5691",
   "metadata": {},
   "outputs": [],
   "source": [
    "x_train, x_test, y_train, y_test = train_test_split(x, y, test_size = 0.30, random_state = maxRS)"
   ]
  },
  {
   "cell_type": "code",
   "execution_count": 35,
   "id": "41c47f5c",
   "metadata": {},
   "outputs": [
    {
     "name": "stdout",
     "output_type": "stream",
     "text": [
      "LinearRegression()\n",
      "r2_score : 0.234285804256275\n",
      "r2_score on train data : 20.49023289374756\n",
      "mean_squared_error : 0.09244484226703828\n",
      "mean_absolute_error : 0.22676477252132338\n",
      "root mean squared error : 0.3040474342385383\n"
     ]
    }
   ],
   "source": [
    "lr = LinearRegression()\n",
    "lr.fit(x_train,y_train)\n",
    "plr = lr.predict(x_test)\n",
    "ptrain = lr.predict(x_train)\n",
    "print(lr)\n",
    "print('r2_score :',r2_score(y_test,plr))\n",
    "print('r2_score on train data :',r2_score(y_train,ptrain)*100)\n",
    "print('mean_squared_error :',mean_squared_error(y_test,plr))\n",
    "print('mean_absolute_error :',mean_absolute_error(y_test,plr))\n",
    "print('root mean squared error :',np.sqrt(mean_squared_error(y_test,plr)))"
   ]
  },
  {
   "cell_type": "code",
   "execution_count": 36,
   "id": "fedde7c2",
   "metadata": {},
   "outputs": [
    {
     "name": "stdout",
     "output_type": "stream",
     "text": [
      "RandomForestRegressor()\n",
      "r2_score : 0.7350656709020869\n",
      "r2_score on train data : 96.02769211059035\n",
      "mean_absolute_error : 0.13807451261483839\n",
      "mean_squared_error : 0.03198557947693749\n",
      "root mean squared error : 0.17884512707070743\n"
     ]
    }
   ],
   "source": [
    "rfr = RandomForestRegressor()\n",
    "rfr.fit(x_train,y_train)\n",
    "prfr = rfr.predict(x_test)\n",
    "ptrain = rfr.predict(x_train)\n",
    "print(rfr)\n",
    "print('r2_score :',r2_score(y_test,prfr))\n",
    "print('r2_score on train data :',r2_score(y_train,ptrain)*100)\n",
    "print('mean_absolute_error :',mean_absolute_error(y_test,prfr))\n",
    "print('mean_squared_error :',mean_squared_error(y_test,prfr))\n",
    "print('root mean squared error :',np.sqrt(mean_squared_error(y_test,prfr)))"
   ]
  },
  {
   "cell_type": "code",
   "execution_count": 37,
   "id": "66baea26",
   "metadata": {},
   "outputs": [
    {
     "name": "stdout",
     "output_type": "stream",
     "text": [
      "KNeighborsRegressor()\n",
      "r2_score : 0.38963679690751096\n",
      "r2_score on train data : 58.99299634764545\n",
      "mean_absolute_error : 0.2048673832458713\n",
      "mean_squared_error : 0.07368928295848667\n",
      "root mean squared error : 0.2714577001274539\n"
     ]
    }
   ],
   "source": [
    "knn = KNN()\n",
    "knn.fit(x_train,y_train)\n",
    "pknn = knn.predict(x_test)\n",
    "ptrain = knn.predict(x_train)\n",
    "print(knn)\n",
    "print('r2_score :',r2_score(y_test,pknn))\n",
    "print('r2_score on train data :',r2_score(y_train,ptrain)*100)\n",
    "print('mean_absolute_error :',mean_absolute_error(y_test,pknn))\n",
    "print('mean_squared_error :',mean_squared_error(y_test,pknn))\n",
    "print('root mean squared error :',np.sqrt(mean_squared_error(y_test,pknn)))"
   ]
  },
  {
   "cell_type": "code",
   "execution_count": 38,
   "id": "5811ceef",
   "metadata": {},
   "outputs": [
    {
     "name": "stdout",
     "output_type": "stream",
     "text": [
      "GradientBoostingRegressor()\n",
      "r2_score : 0.7085411726948033\n",
      "r2_score on train data : 71.55089341289681\n",
      "mean_absolute_error : 0.14612568774441714\n",
      "mean_squared_error : 0.03518788794478956\n",
      "root mean squared error : 0.18758434888014927\n"
     ]
    }
   ],
   "source": [
    "gbr = GradientBoostingRegressor()\n",
    "gbr.fit(x_train,y_train)\n",
    "pgbr = gbr.predict(x_test)\n",
    "ptrain = gbr.predict(x_train)\n",
    "print(gbr)\n",
    "print('r2_score :',r2_score(y_test,pgbr))\n",
    "print('r2_score on train data :',r2_score(y_train,ptrain)*100)\n",
    "print('mean_absolute_error :',mean_absolute_error(y_test,pgbr))\n",
    "print('mean_squared_error :',mean_squared_error(y_test,pgbr))\n",
    "print('root mean squared error :',np.sqrt(mean_squared_error(y_test,pgbr)))"
   ]
  },
  {
   "cell_type": "code",
   "execution_count": 39,
   "id": "669b91a8",
   "metadata": {},
   "outputs": [
    {
     "name": "stdout",
     "output_type": "stream",
     "text": [
      "Lasso()\n",
      "r2_score : -1.542750895278111e-05\n",
      "r2_score on train data : 0.0\n",
      "mean_absolute_error : 0.27116237052949577\n",
      "mean_squared_error : 0.1207320812054144\n",
      "root mean squared error : 0.34746522301579247\n"
     ]
    }
   ],
   "source": [
    "lasso = Lasso()\n",
    "lasso.fit(x_train,y_train)\n",
    "plasso = lasso.predict(x_test)\n",
    "ptrain = lasso.predict(x_train)\n",
    "print(lasso)\n",
    "print('r2_score :',r2_score(y_test,plasso))\n",
    "print('r2_score on train data :',r2_score(y_train,ptrain)*100)\n",
    "print('mean_absolute_error :',mean_absolute_error(y_test,plasso))\n",
    "print('mean_squared_error :',mean_squared_error(y_test,plasso))\n",
    "print('root mean squared error :',np.sqrt(mean_squared_error(y_test,plasso)))"
   ]
  },
  {
   "cell_type": "code",
   "execution_count": 40,
   "id": "b34a29da",
   "metadata": {},
   "outputs": [
    {
     "name": "stdout",
     "output_type": "stream",
     "text": [
      "Ridge()\n",
      "r2_score : 0.23428417282304204\n",
      "r2_score on train data : 20.49023260645627\n",
      "mean_absolute_error : 0.22676483911472298\n",
      "mean_squared_error : 0.09244503923032919\n",
      "root mean squared error : 0.30404775814060725\n"
     ]
    }
   ],
   "source": [
    "ridge = Ridge()\n",
    "ridge.fit(x_train,y_train)\n",
    "pridge = ridge.predict(x_test)\n",
    "ptrain = ridge.predict(x_train)\n",
    "print(ridge)\n",
    "print('r2_score :',r2_score(y_test,pridge))\n",
    "print('r2_score on train data :',r2_score(y_train,ptrain)*100)\n",
    "print('mean_absolute_error :',mean_absolute_error(y_test,pridge))\n",
    "print('mean_squared_error :',mean_squared_error(y_test,pridge))\n",
    "print('root mean squared error :',np.sqrt(mean_squared_error(y_test,pridge)))"
   ]
  },
  {
   "cell_type": "code",
   "execution_count": 41,
   "id": "a8f0e2eb",
   "metadata": {},
   "outputs": [],
   "source": [
    "from sklearn.model_selection import cross_val_score"
   ]
  },
  {
   "cell_type": "code",
   "execution_count": 42,
   "id": "5c63f49f",
   "metadata": {},
   "outputs": [
    {
     "name": "stdout",
     "output_type": "stream",
     "text": [
      "[0.2090953  0.20945795 0.22304964 0.20043724 0.2209152 ]\n",
      "0.2125910660405455\n",
      "Diff b/w R2 and cross val score is : 2.1694738215729483\n"
     ]
    }
   ],
   "source": [
    "score = cross_val_score(lr,x,y,cv=5,scoring='r2')\n",
    "print(score)\n",
    "print(score.mean())\n",
    "print(\"Diff b/w R2 and cross val score is :\",(r2_score(y_test,plr)-score.mean())*100)"
   ]
  },
  {
   "cell_type": "code",
   "execution_count": 43,
   "id": "f6996d33",
   "metadata": {},
   "outputs": [
    {
     "name": "stdout",
     "output_type": "stream",
     "text": [
      "[0.70969944 0.72813485 0.71512001 0.7144554  0.75076752]\n",
      "0.7236354442025137\n",
      "Diff b/w R2 and cross val score is : 1.1430226699573165\n"
     ]
    }
   ],
   "source": [
    "score = cross_val_score(rfr,x,y,cv=5,scoring='r2')\n",
    "print(score)\n",
    "print(score.mean())\n",
    "print(\"Diff b/w R2 and cross val score is :\",(r2_score(y_test,prfr)-score.mean())*100)"
   ]
  },
  {
   "cell_type": "code",
   "execution_count": 44,
   "id": "46e39be7",
   "metadata": {},
   "outputs": [
    {
     "name": "stdout",
     "output_type": "stream",
     "text": [
      "[0.3827282  0.38162503 0.37696318 0.38116993 0.42363704]\n",
      "0.3892246779618732\n",
      "Diff b/w R2 and cross val score is : 0.041211894563775164\n"
     ]
    }
   ],
   "source": [
    "score = cross_val_score(knn,x,y,cv=5,scoring='r2')\n",
    "print(score)\n",
    "print(score.mean())\n",
    "print(\"Diff b/w R2 and cross val score is :\",(r2_score(y_test,pknn)-score.mean())*100)"
   ]
  },
  {
   "cell_type": "code",
   "execution_count": 45,
   "id": "b9104bef",
   "metadata": {},
   "outputs": [
    {
     "name": "stdout",
     "output_type": "stream",
     "text": [
      "[0.69086758 0.70601855 0.68998503 0.6927426  0.72350573]\n",
      "0.7006238982747448\n",
      "Diff b/w R2 and cross val score is : 0.7917274420058518\n"
     ]
    }
   ],
   "source": [
    "score = cross_val_score(gbr,x,y,cv=5,scoring='r2')\n",
    "print(score)\n",
    "print(score.mean())\n",
    "print(\"Diff b/w R2 and cross val score is :\",(r2_score(y_test,pgbr)-score.mean())*100)"
   ]
  },
  {
   "cell_type": "code",
   "execution_count": 46,
   "id": "37455ffd",
   "metadata": {},
   "outputs": [
    {
     "name": "stdout",
     "output_type": "stream",
     "text": [
      "[-5.93992341e-06 -1.60849131e-03 -3.24846535e-05 -7.90533964e-04\n",
      " -3.99658038e-04]\n",
      "-0.0005674215785413494\n",
      "Diff b/w R2 and cross val score is : 0.05519940695885683\n"
     ]
    }
   ],
   "source": [
    "score = cross_val_score(lasso,x,y,cv=5,scoring='r2')\n",
    "print(score)\n",
    "print(score.mean())\n",
    "print(\"Diff b/w R2 and cross val score is :\",(r2_score(y_test,plasso)-score.mean())*100)"
   ]
  },
  {
   "cell_type": "code",
   "execution_count": 47,
   "id": "5771f37b",
   "metadata": {},
   "outputs": [
    {
     "name": "stdout",
     "output_type": "stream",
     "text": [
      "[0.20909503 0.20945898 0.22304958 0.20043819 0.22091425]\n",
      "0.2125912051118714\n",
      "Diff b/w R2 and cross val score is : 2.1692967711170628\n"
     ]
    }
   ],
   "source": [
    "score = cross_val_score(ridge,x,y,cv=5,scoring='r2')\n",
    "print(score)\n",
    "print(score.mean())\n",
    "print(\"Diff b/w R2 and cross val score is :\",(r2_score(y_test,pridge)-score.mean())*100)"
   ]
  },
  {
   "cell_type": "code",
   "execution_count": 48,
   "id": "ecdfa636",
   "metadata": {},
   "outputs": [],
   "source": [
    "from sklearn.model_selection import GridSearchCV\n",
    "parameters = {'n_estimators': [25, 50, 100, 150], \n",
    "              'max_features': ['sqrt', 'log2', None], \n",
    "              'max_depth': [3, 6, 9], \n",
    "              'max_leaf_nodes': [3, 6, 9],}"
   ]
  },
  {
   "cell_type": "code",
   "execution_count": 49,
   "id": "e18a37f3",
   "metadata": {},
   "outputs": [
    {
     "data": {
      "text/html": [
       "<style>#sk-container-id-1 {color: black;}#sk-container-id-1 pre{padding: 0;}#sk-container-id-1 div.sk-toggleable {background-color: white;}#sk-container-id-1 label.sk-toggleable__label {cursor: pointer;display: block;width: 100%;margin-bottom: 0;padding: 0.3em;box-sizing: border-box;text-align: center;}#sk-container-id-1 label.sk-toggleable__label-arrow:before {content: \"▸\";float: left;margin-right: 0.25em;color: #696969;}#sk-container-id-1 label.sk-toggleable__label-arrow:hover:before {color: black;}#sk-container-id-1 div.sk-estimator:hover label.sk-toggleable__label-arrow:before {color: black;}#sk-container-id-1 div.sk-toggleable__content {max-height: 0;max-width: 0;overflow: hidden;text-align: left;background-color: #f0f8ff;}#sk-container-id-1 div.sk-toggleable__content pre {margin: 0.2em;color: black;border-radius: 0.25em;background-color: #f0f8ff;}#sk-container-id-1 input.sk-toggleable__control:checked~div.sk-toggleable__content {max-height: 200px;max-width: 100%;overflow: auto;}#sk-container-id-1 input.sk-toggleable__control:checked~label.sk-toggleable__label-arrow:before {content: \"▾\";}#sk-container-id-1 div.sk-estimator input.sk-toggleable__control:checked~label.sk-toggleable__label {background-color: #d4ebff;}#sk-container-id-1 div.sk-label input.sk-toggleable__control:checked~label.sk-toggleable__label {background-color: #d4ebff;}#sk-container-id-1 input.sk-hidden--visually {border: 0;clip: rect(1px 1px 1px 1px);clip: rect(1px, 1px, 1px, 1px);height: 1px;margin: -1px;overflow: hidden;padding: 0;position: absolute;width: 1px;}#sk-container-id-1 div.sk-estimator {font-family: monospace;background-color: #f0f8ff;border: 1px dotted black;border-radius: 0.25em;box-sizing: border-box;margin-bottom: 0.5em;}#sk-container-id-1 div.sk-estimator:hover {background-color: #d4ebff;}#sk-container-id-1 div.sk-parallel-item::after {content: \"\";width: 100%;border-bottom: 1px solid gray;flex-grow: 1;}#sk-container-id-1 div.sk-label:hover label.sk-toggleable__label {background-color: #d4ebff;}#sk-container-id-1 div.sk-serial::before {content: \"\";position: absolute;border-left: 1px solid gray;box-sizing: border-box;top: 0;bottom: 0;left: 50%;z-index: 0;}#sk-container-id-1 div.sk-serial {display: flex;flex-direction: column;align-items: center;background-color: white;padding-right: 0.2em;padding-left: 0.2em;position: relative;}#sk-container-id-1 div.sk-item {position: relative;z-index: 1;}#sk-container-id-1 div.sk-parallel {display: flex;align-items: stretch;justify-content: center;background-color: white;position: relative;}#sk-container-id-1 div.sk-item::before, #sk-container-id-1 div.sk-parallel-item::before {content: \"\";position: absolute;border-left: 1px solid gray;box-sizing: border-box;top: 0;bottom: 0;left: 50%;z-index: -1;}#sk-container-id-1 div.sk-parallel-item {display: flex;flex-direction: column;z-index: 1;position: relative;background-color: white;}#sk-container-id-1 div.sk-parallel-item:first-child::after {align-self: flex-end;width: 50%;}#sk-container-id-1 div.sk-parallel-item:last-child::after {align-self: flex-start;width: 50%;}#sk-container-id-1 div.sk-parallel-item:only-child::after {width: 0;}#sk-container-id-1 div.sk-dashed-wrapped {border: 1px dashed gray;margin: 0 0.4em 0.5em 0.4em;box-sizing: border-box;padding-bottom: 0.4em;background-color: white;}#sk-container-id-1 div.sk-label label {font-family: monospace;font-weight: bold;display: inline-block;line-height: 1.2em;}#sk-container-id-1 div.sk-label-container {text-align: center;}#sk-container-id-1 div.sk-container {/* jupyter's `normalize.less` sets `[hidden] { display: none; }` but bootstrap.min.css set `[hidden] { display: none !important; }` so we also need the `!important` here to be able to override the default hidden behavior on the sphinx rendered scikit-learn.org. See: https://github.com/scikit-learn/scikit-learn/issues/21755 */display: inline-block !important;position: relative;}#sk-container-id-1 div.sk-text-repr-fallback {display: none;}</style><div id=\"sk-container-id-1\" class=\"sk-top-container\"><div class=\"sk-text-repr-fallback\"><pre>GridSearchCV(cv=5, estimator=RandomForestRegressor(),\n",
       "             param_grid={&#x27;max_depth&#x27;: [3, 6, 9],\n",
       "                         &#x27;max_features&#x27;: [&#x27;sqrt&#x27;, &#x27;log2&#x27;, None],\n",
       "                         &#x27;max_leaf_nodes&#x27;: [3, 6, 9],\n",
       "                         &#x27;n_estimators&#x27;: [25, 50, 100, 150]})</pre><b>In a Jupyter environment, please rerun this cell to show the HTML representation or trust the notebook. <br />On GitHub, the HTML representation is unable to render, please try loading this page with nbviewer.org.</b></div><div class=\"sk-container\" hidden><div class=\"sk-item sk-dashed-wrapped\"><div class=\"sk-label-container\"><div class=\"sk-label sk-toggleable\"><input class=\"sk-toggleable__control sk-hidden--visually\" id=\"sk-estimator-id-1\" type=\"checkbox\" ><label for=\"sk-estimator-id-1\" class=\"sk-toggleable__label sk-toggleable__label-arrow\">GridSearchCV</label><div class=\"sk-toggleable__content\"><pre>GridSearchCV(cv=5, estimator=RandomForestRegressor(),\n",
       "             param_grid={&#x27;max_depth&#x27;: [3, 6, 9],\n",
       "                         &#x27;max_features&#x27;: [&#x27;sqrt&#x27;, &#x27;log2&#x27;, None],\n",
       "                         &#x27;max_leaf_nodes&#x27;: [3, 6, 9],\n",
       "                         &#x27;n_estimators&#x27;: [25, 50, 100, 150]})</pre></div></div></div><div class=\"sk-parallel\"><div class=\"sk-parallel-item\"><div class=\"sk-item\"><div class=\"sk-label-container\"><div class=\"sk-label sk-toggleable\"><input class=\"sk-toggleable__control sk-hidden--visually\" id=\"sk-estimator-id-2\" type=\"checkbox\" ><label for=\"sk-estimator-id-2\" class=\"sk-toggleable__label sk-toggleable__label-arrow\">estimator: RandomForestRegressor</label><div class=\"sk-toggleable__content\"><pre>RandomForestRegressor()</pre></div></div></div><div class=\"sk-serial\"><div class=\"sk-item\"><div class=\"sk-estimator sk-toggleable\"><input class=\"sk-toggleable__control sk-hidden--visually\" id=\"sk-estimator-id-3\" type=\"checkbox\" ><label for=\"sk-estimator-id-3\" class=\"sk-toggleable__label sk-toggleable__label-arrow\">RandomForestRegressor</label><div class=\"sk-toggleable__content\"><pre>RandomForestRegressor()</pre></div></div></div></div></div></div></div></div></div></div>"
      ],
      "text/plain": [
       "GridSearchCV(cv=5, estimator=RandomForestRegressor(),\n",
       "             param_grid={'max_depth': [3, 6, 9],\n",
       "                         'max_features': ['sqrt', 'log2', None],\n",
       "                         'max_leaf_nodes': [3, 6, 9],\n",
       "                         'n_estimators': [25, 50, 100, 150]})"
      ]
     },
     "execution_count": 49,
     "metadata": {},
     "output_type": "execute_result"
    }
   ],
   "source": [
    "GVC = GridSearchCV(RandomForestRegressor(), parameters, cv = 5)\n",
    "GVC.fit(x_train,y_train)"
   ]
  },
  {
   "cell_type": "code",
   "execution_count": 50,
   "id": "c7a9eed9",
   "metadata": {},
   "outputs": [
    {
     "data": {
      "text/plain": [
       "{'max_depth': 9,\n",
       " 'max_features': None,\n",
       " 'max_leaf_nodes': 9,\n",
       " 'n_estimators': 150}"
      ]
     },
     "execution_count": 50,
     "metadata": {},
     "output_type": "execute_result"
    }
   ],
   "source": [
    "GVC.best_params_"
   ]
  },
  {
   "cell_type": "code",
   "execution_count": 54,
   "id": "5f7046e1",
   "metadata": {},
   "outputs": [
    {
     "name": "stdout",
     "output_type": "stream",
     "text": [
      "r2_score : 0.5340909153335669\n",
      "mean_absolute_error : 0.18102581243206378\n",
      "mean_squared_error : 0.05624930565762148\n",
      "root mean squared error : 0.23716936070584976\n"
     ]
    }
   ],
   "source": [
    "Model = RandomForestRegressor(max_depth = 9, max_features = None, max_leaf_nodes = 9, n_estimators = 150)\n",
    "Model.fit(x_train,y_train)\n",
    "pred = Model.predict(x_test)\n",
    "print('r2_score :',r2_score(y_test,pred))\n",
    "print('mean_absolute_error :',mean_absolute_error(y_test,pred))\n",
    "print('mean_squared_error :',mean_squared_error(y_test,pred))\n",
    "print('root mean squared error :',np.sqrt(mean_squared_error(y_test,pred)))"
   ]
  },
  {
   "cell_type": "code",
   "execution_count": 55,
   "id": "d6819a1e",
   "metadata": {},
   "outputs": [
    {
     "data": {
      "text/plain": [
       "['Reataurant.pkl']"
      ]
     },
     "execution_count": 55,
     "metadata": {},
     "output_type": "execute_result"
    }
   ],
   "source": [
    "import joblib\n",
    "joblib.dump(Model,\"Reataurant.pkl\")"
   ]
  },
  {
   "cell_type": "code",
   "execution_count": 56,
   "id": "3b5b23b9",
   "metadata": {},
   "outputs": [],
   "source": [
    "df1 = pd.read_excel('https://raw.githubusercontent.com/FlipRoboTechnologies/ML-Datasets/main/Restaurant%20Food%20Cost/Data_Test.xlsx')"
   ]
  },
  {
   "cell_type": "code",
   "execution_count": 58,
   "id": "b59f341b",
   "metadata": {},
   "outputs": [
    {
     "data": {
      "text/html": [
       "<div>\n",
       "<style scoped>\n",
       "    .dataframe tbody tr th:only-of-type {\n",
       "        vertical-align: middle;\n",
       "    }\n",
       "\n",
       "    .dataframe tbody tr th {\n",
       "        vertical-align: top;\n",
       "    }\n",
       "\n",
       "    .dataframe thead th {\n",
       "        text-align: right;\n",
       "    }\n",
       "</style>\n",
       "<table border=\"1\" class=\"dataframe\">\n",
       "  <thead>\n",
       "    <tr style=\"text-align: right;\">\n",
       "      <th></th>\n",
       "      <th>TITLE</th>\n",
       "      <th>RESTAURANT_ID</th>\n",
       "      <th>CUISINES</th>\n",
       "      <th>TIME</th>\n",
       "      <th>CITY</th>\n",
       "      <th>LOCALITY</th>\n",
       "      <th>RATING</th>\n",
       "      <th>VOTES</th>\n",
       "    </tr>\n",
       "  </thead>\n",
       "  <tbody>\n",
       "    <tr>\n",
       "      <th>0</th>\n",
       "      <td>CASUAL DINING</td>\n",
       "      <td>4085</td>\n",
       "      <td>North Indian, Chinese, Mughlai, Kebab</td>\n",
       "      <td>12noon – 12midnight (Mon-Sun)</td>\n",
       "      <td>Noida</td>\n",
       "      <td>Sector 18</td>\n",
       "      <td>4.3</td>\n",
       "      <td>564 votes</td>\n",
       "    </tr>\n",
       "    <tr>\n",
       "      <th>1</th>\n",
       "      <td>QUICK BITES</td>\n",
       "      <td>12680</td>\n",
       "      <td>South Indian, Fast Food, Pizza, North Indian</td>\n",
       "      <td>7am – 12:30AM (Mon-Sun)</td>\n",
       "      <td>Mumbai</td>\n",
       "      <td>Grant Road</td>\n",
       "      <td>4.2</td>\n",
       "      <td>61 votes</td>\n",
       "    </tr>\n",
       "    <tr>\n",
       "      <th>2</th>\n",
       "      <td>CASUAL DINING</td>\n",
       "      <td>1411</td>\n",
       "      <td>North Indian, Seafood, Biryani, Chinese</td>\n",
       "      <td>11am – 11:30pm (Mon-Sun)</td>\n",
       "      <td>Mumbai</td>\n",
       "      <td>Marine Lines</td>\n",
       "      <td>3.8</td>\n",
       "      <td>350 votes</td>\n",
       "    </tr>\n",
       "    <tr>\n",
       "      <th>3</th>\n",
       "      <td>None</td>\n",
       "      <td>204</td>\n",
       "      <td>Biryani</td>\n",
       "      <td>9am – 10pm (Mon, Wed, Thu, Fri, Sat, Sun), 10:...</td>\n",
       "      <td>Faridabad</td>\n",
       "      <td>NIT</td>\n",
       "      <td>3.8</td>\n",
       "      <td>1445 votes</td>\n",
       "    </tr>\n",
       "    <tr>\n",
       "      <th>4</th>\n",
       "      <td>QUICK BITES</td>\n",
       "      <td>13453</td>\n",
       "      <td>South Indian, Kerala</td>\n",
       "      <td>11am – 10pm (Mon-Sun)</td>\n",
       "      <td>Kochi</td>\n",
       "      <td>Kaloor</td>\n",
       "      <td>3.6</td>\n",
       "      <td>23 votes</td>\n",
       "    </tr>\n",
       "  </tbody>\n",
       "</table>\n",
       "</div>"
      ],
      "text/plain": [
       "           TITLE  RESTAURANT_ID                                      CUISINES  \\\n",
       "0  CASUAL DINING           4085         North Indian, Chinese, Mughlai, Kebab   \n",
       "1    QUICK BITES          12680  South Indian, Fast Food, Pizza, North Indian   \n",
       "2  CASUAL DINING           1411       North Indian, Seafood, Biryani, Chinese   \n",
       "3           None            204                                       Biryani   \n",
       "4    QUICK BITES          13453                          South Indian, Kerala   \n",
       "\n",
       "                                                TIME       CITY      LOCALITY  \\\n",
       "0                      12noon – 12midnight (Mon-Sun)      Noida     Sector 18   \n",
       "1                            7am – 12:30AM (Mon-Sun)     Mumbai    Grant Road   \n",
       "2                           11am – 11:30pm (Mon-Sun)     Mumbai  Marine Lines   \n",
       "3  9am – 10pm (Mon, Wed, Thu, Fri, Sat, Sun), 10:...  Faridabad           NIT   \n",
       "4                              11am – 10pm (Mon-Sun)      Kochi        Kaloor   \n",
       "\n",
       "  RATING       VOTES  \n",
       "0    4.3   564 votes  \n",
       "1    4.2    61 votes  \n",
       "2    3.8   350 votes  \n",
       "3    3.8  1445 votes  \n",
       "4    3.6    23 votes  "
      ]
     },
     "execution_count": 58,
     "metadata": {},
     "output_type": "execute_result"
    }
   ],
   "source": [
    "df1.head()"
   ]
  },
  {
   "cell_type": "code",
   "execution_count": 59,
   "id": "f23c62c6",
   "metadata": {},
   "outputs": [
    {
     "data": {
      "text/plain": [
       "TITLE              0\n",
       "RESTAURANT_ID      0\n",
       "CUISINES           0\n",
       "TIME               0\n",
       "CITY              35\n",
       "LOCALITY          30\n",
       "RATING             2\n",
       "VOTES            402\n",
       "dtype: int64"
      ]
     },
     "execution_count": 59,
     "metadata": {},
     "output_type": "execute_result"
    }
   ],
   "source": [
    "df1.isnull().sum()"
   ]
  },
  {
   "cell_type": "code",
   "execution_count": 65,
   "id": "e3307a71",
   "metadata": {},
   "outputs": [],
   "source": [
    "df1['CITY'].fillna(df1['CITY'].mode()[0], inplace = True)\n",
    "df1['LOCALITY'].fillna(df1['LOCALITY'].mode()[0], inplace = True)\n",
    "df1['RATING'].fillna(df1['RATING'].mode()[0], inplace = True)\n",
    "df1['VOTES'].fillna(df1['VOTES'].mode()[0], inplace = True)"
   ]
  },
  {
   "cell_type": "code",
   "execution_count": 66,
   "id": "7f98d7ee",
   "metadata": {},
   "outputs": [
    {
     "data": {
      "text/plain": [
       "TITLE            0\n",
       "RESTAURANT_ID    0\n",
       "CUISINES         0\n",
       "TIME             0\n",
       "CITY             0\n",
       "LOCALITY         0\n",
       "RATING           0\n",
       "VOTES            0\n",
       "dtype: int64"
      ]
     },
     "execution_count": 66,
     "metadata": {},
     "output_type": "execute_result"
    }
   ],
   "source": [
    "df1.isnull().sum()"
   ]
  },
  {
   "cell_type": "code",
   "execution_count": 70,
   "id": "fb6f0ba1",
   "metadata": {},
   "outputs": [
    {
     "data": {
      "text/html": [
       "<div>\n",
       "<style scoped>\n",
       "    .dataframe tbody tr th:only-of-type {\n",
       "        vertical-align: middle;\n",
       "    }\n",
       "\n",
       "    .dataframe tbody tr th {\n",
       "        vertical-align: top;\n",
       "    }\n",
       "\n",
       "    .dataframe thead th {\n",
       "        text-align: right;\n",
       "    }\n",
       "</style>\n",
       "<table border=\"1\" class=\"dataframe\">\n",
       "  <thead>\n",
       "    <tr style=\"text-align: right;\">\n",
       "      <th></th>\n",
       "      <th>TITLE</th>\n",
       "      <th>RESTAURANT_ID</th>\n",
       "      <th>CUISINES</th>\n",
       "      <th>TIME</th>\n",
       "      <th>CITY</th>\n",
       "      <th>LOCALITY</th>\n",
       "      <th>RATING</th>\n",
       "      <th>VOTES</th>\n",
       "    </tr>\n",
       "  </thead>\n",
       "  <tbody>\n",
       "    <tr>\n",
       "      <th>0</th>\n",
       "      <td>23.0</td>\n",
       "      <td>4085</td>\n",
       "      <td>1293.0</td>\n",
       "      <td>503.0</td>\n",
       "      <td>110.0</td>\n",
       "      <td>662.0</td>\n",
       "      <td>23.0</td>\n",
       "      <td>823.0</td>\n",
       "    </tr>\n",
       "    <tr>\n",
       "      <th>1</th>\n",
       "      <td>75.0</td>\n",
       "      <td>12680</td>\n",
       "      <td>1632.0</td>\n",
       "      <td>933.0</td>\n",
       "      <td>96.0</td>\n",
       "      <td>221.0</td>\n",
       "      <td>22.0</td>\n",
       "      <td>871.0</td>\n",
       "    </tr>\n",
       "    <tr>\n",
       "      <th>2</th>\n",
       "      <td>23.0</td>\n",
       "      <td>1411</td>\n",
       "      <td>1455.0</td>\n",
       "      <td>219.0</td>\n",
       "      <td>96.0</td>\n",
       "      <td>411.0</td>\n",
       "      <td>18.0</td>\n",
       "      <td>575.0</td>\n",
       "    </tr>\n",
       "    <tr>\n",
       "      <th>3</th>\n",
       "      <td>66.0</td>\n",
       "      <td>204</td>\n",
       "      <td>208.0</td>\n",
       "      <td>1071.0</td>\n",
       "      <td>41.0</td>\n",
       "      <td>456.0</td>\n",
       "      <td>18.0</td>\n",
       "      <td>179.0</td>\n",
       "    </tr>\n",
       "    <tr>\n",
       "      <th>4</th>\n",
       "      <td>75.0</td>\n",
       "      <td>13453</td>\n",
       "      <td>1637.0</td>\n",
       "      <td>208.0</td>\n",
       "      <td>78.0</td>\n",
       "      <td>300.0</td>\n",
       "      <td>16.0</td>\n",
       "      <td>394.0</td>\n",
       "    </tr>\n",
       "    <tr>\n",
       "      <th>...</th>\n",
       "      <td>...</td>\n",
       "      <td>...</td>\n",
       "      <td>...</td>\n",
       "      <td>...</td>\n",
       "      <td>...</td>\n",
       "      <td>...</td>\n",
       "      <td>...</td>\n",
       "      <td>...</td>\n",
       "    </tr>\n",
       "    <tr>\n",
       "      <th>4226</th>\n",
       "      <td>23.0</td>\n",
       "      <td>9057</td>\n",
       "      <td>1425.0</td>\n",
       "      <td>103.0</td>\n",
       "      <td>108.0</td>\n",
       "      <td>597.0</td>\n",
       "      <td>19.0</td>\n",
       "      <td>487.0</td>\n",
       "    </tr>\n",
       "    <tr>\n",
       "      <th>4227</th>\n",
       "      <td>66.0</td>\n",
       "      <td>1247</td>\n",
       "      <td>267.0</td>\n",
       "      <td>262.0</td>\n",
       "      <td>9.0</td>\n",
       "      <td>237.0</td>\n",
       "      <td>23.0</td>\n",
       "      <td>722.0</td>\n",
       "    </tr>\n",
       "    <tr>\n",
       "      <th>4228</th>\n",
       "      <td>75.0</td>\n",
       "      <td>8617</td>\n",
       "      <td>679.0</td>\n",
       "      <td>1052.0</td>\n",
       "      <td>41.0</td>\n",
       "      <td>696.0</td>\n",
       "      <td>17.0</td>\n",
       "      <td>789.0</td>\n",
       "    </tr>\n",
       "    <tr>\n",
       "      <th>4229</th>\n",
       "      <td>75.0</td>\n",
       "      <td>6485</td>\n",
       "      <td>1541.0</td>\n",
       "      <td>215.0</td>\n",
       "      <td>78.0</td>\n",
       "      <td>332.0</td>\n",
       "      <td>0.0</td>\n",
       "      <td>861.0</td>\n",
       "    </tr>\n",
       "    <tr>\n",
       "      <th>4230</th>\n",
       "      <td>75.0</td>\n",
       "      <td>2421</td>\n",
       "      <td>1145.0</td>\n",
       "      <td>781.0</td>\n",
       "      <td>8.0</td>\n",
       "      <td>580.0</td>\n",
       "      <td>17.0</td>\n",
       "      <td>887.0</td>\n",
       "    </tr>\n",
       "  </tbody>\n",
       "</table>\n",
       "<p>4231 rows × 8 columns</p>\n",
       "</div>"
      ],
      "text/plain": [
       "      TITLE  RESTAURANT_ID  CUISINES    TIME   CITY  LOCALITY  RATING  VOTES\n",
       "0      23.0           4085    1293.0   503.0  110.0     662.0    23.0  823.0\n",
       "1      75.0          12680    1632.0   933.0   96.0     221.0    22.0  871.0\n",
       "2      23.0           1411    1455.0   219.0   96.0     411.0    18.0  575.0\n",
       "3      66.0            204     208.0  1071.0   41.0     456.0    18.0  179.0\n",
       "4      75.0          13453    1637.0   208.0   78.0     300.0    16.0  394.0\n",
       "...     ...            ...       ...     ...    ...       ...     ...    ...\n",
       "4226   23.0           9057    1425.0   103.0  108.0     597.0    19.0  487.0\n",
       "4227   66.0           1247     267.0   262.0    9.0     237.0    23.0  722.0\n",
       "4228   75.0           8617     679.0  1052.0   41.0     696.0    17.0  789.0\n",
       "4229   75.0           6485    1541.0   215.0   78.0     332.0     0.0  861.0\n",
       "4230   75.0           2421    1145.0   781.0    8.0     580.0    17.0  887.0\n",
       "\n",
       "[4231 rows x 8 columns]"
      ]
     },
     "execution_count": 70,
     "metadata": {},
     "output_type": "execute_result"
    }
   ],
   "source": [
    "from sklearn.preprocessing import OrdinalEncoder\n",
    "oe = OrdinalEncoder()\n",
    "for i in df1.columns:\n",
    "    if df1[i].dtypes == 'object':\n",
    "        df1[i] = oe.fit_transform(df1[i].values.reshape(-1,1))\n",
    "df1"
   ]
  },
  {
   "cell_type": "code",
   "execution_count": 71,
   "id": "cb7ff1c6",
   "metadata": {},
   "outputs": [
    {
     "data": {
      "text/html": [
       "<div>\n",
       "<style scoped>\n",
       "    .dataframe tbody tr th:only-of-type {\n",
       "        vertical-align: middle;\n",
       "    }\n",
       "\n",
       "    .dataframe tbody tr th {\n",
       "        vertical-align: top;\n",
       "    }\n",
       "\n",
       "    .dataframe thead th {\n",
       "        text-align: right;\n",
       "    }\n",
       "</style>\n",
       "<table border=\"1\" class=\"dataframe\">\n",
       "  <thead>\n",
       "    <tr style=\"text-align: right;\">\n",
       "      <th></th>\n",
       "      <th>TITLE</th>\n",
       "      <th>RESTAURANT_ID</th>\n",
       "      <th>CUISINES</th>\n",
       "      <th>TIME</th>\n",
       "      <th>CITY</th>\n",
       "      <th>LOCALITY</th>\n",
       "      <th>RATING</th>\n",
       "      <th>VOTES</th>\n",
       "    </tr>\n",
       "  </thead>\n",
       "  <tbody>\n",
       "    <tr>\n",
       "      <th>0</th>\n",
       "      <td>-0.868887</td>\n",
       "      <td>0.372692</td>\n",
       "      <td>0.325408</td>\n",
       "      <td>-0.584658</td>\n",
       "      <td>2.117762</td>\n",
       "      <td>-0.920549</td>\n",
       "      <td>-0.290547</td>\n",
       "      <td>0.593884</td>\n",
       "    </tr>\n",
       "    <tr>\n",
       "      <th>1</th>\n",
       "      <td>-0.807839</td>\n",
       "      <td>1.207377</td>\n",
       "      <td>-1.616381</td>\n",
       "      <td>0.934369</td>\n",
       "      <td>-0.897082</td>\n",
       "      <td>0.986239</td>\n",
       "      <td>0.680153</td>\n",
       "      <td>-0.085891</td>\n",
       "    </tr>\n",
       "    <tr>\n",
       "      <th>2</th>\n",
       "      <td>-0.868887</td>\n",
       "      <td>0.700572</td>\n",
       "      <td>0.615265</td>\n",
       "      <td>-0.688048</td>\n",
       "      <td>-0.897082</td>\n",
       "      <td>1.124048</td>\n",
       "      <td>0.033020</td>\n",
       "      <td>-0.579143</td>\n",
       "    </tr>\n",
       "    <tr>\n",
       "      <th>3</th>\n",
       "      <td>1.084647</td>\n",
       "      <td>-0.313702</td>\n",
       "      <td>1.573701</td>\n",
       "      <td>-1.199692</td>\n",
       "      <td>0.949957</td>\n",
       "      <td>-1.293888</td>\n",
       "      <td>0.518369</td>\n",
       "      <td>-0.423707</td>\n",
       "    </tr>\n",
       "    <tr>\n",
       "      <th>4</th>\n",
       "      <td>-0.288931</td>\n",
       "      <td>1.693314</td>\n",
       "      <td>-0.389682</td>\n",
       "      <td>-0.749021</td>\n",
       "      <td>0.949957</td>\n",
       "      <td>-0.081161</td>\n",
       "      <td>0.033020</td>\n",
       "      <td>-1.080685</td>\n",
       "    </tr>\n",
       "    <tr>\n",
       "      <th>...</th>\n",
       "      <td>...</td>\n",
       "      <td>...</td>\n",
       "      <td>...</td>\n",
       "      <td>...</td>\n",
       "      <td>...</td>\n",
       "      <td>...</td>\n",
       "      <td>...</td>\n",
       "      <td>...</td>\n",
       "    </tr>\n",
       "    <tr>\n",
       "      <th>12685</th>\n",
       "      <td>1.084647</td>\n",
       "      <td>1.214036</td>\n",
       "      <td>0.580382</td>\n",
       "      <td>-0.047829</td>\n",
       "      <td>-0.134433</td>\n",
       "      <td>-0.777728</td>\n",
       "      <td>0.033020</td>\n",
       "      <td>0.741031</td>\n",
       "    </tr>\n",
       "    <tr>\n",
       "      <th>12686</th>\n",
       "      <td>-0.807839</td>\n",
       "      <td>0.427746</td>\n",
       "      <td>-0.076570</td>\n",
       "      <td>-0.004088</td>\n",
       "      <td>0.949957</td>\n",
       "      <td>-1.301405</td>\n",
       "      <td>0.841936</td>\n",
       "      <td>-1.658909</td>\n",
       "    </tr>\n",
       "    <tr>\n",
       "      <th>12687</th>\n",
       "      <td>0.352072</td>\n",
       "      <td>0.748966</td>\n",
       "      <td>-0.122250</td>\n",
       "      <td>-0.057108</td>\n",
       "      <td>1.152535</td>\n",
       "      <td>1.727906</td>\n",
       "      <td>0.356586</td>\n",
       "      <td>0.904757</td>\n",
       "    </tr>\n",
       "    <tr>\n",
       "      <th>12688</th>\n",
       "      <td>-0.868887</td>\n",
       "      <td>-0.360764</td>\n",
       "      <td>1.055448</td>\n",
       "      <td>0.870745</td>\n",
       "      <td>-0.897082</td>\n",
       "      <td>-0.053599</td>\n",
       "      <td>-0.452330</td>\n",
       "      <td>0.009443</td>\n",
       "    </tr>\n",
       "    <tr>\n",
       "      <th>12689</th>\n",
       "      <td>-0.868887</td>\n",
       "      <td>-0.295055</td>\n",
       "      <td>0.590349</td>\n",
       "      <td>-0.457410</td>\n",
       "      <td>-0.134433</td>\n",
       "      <td>1.705355</td>\n",
       "      <td>-0.614114</td>\n",
       "      <td>1.064339</td>\n",
       "    </tr>\n",
       "  </tbody>\n",
       "</table>\n",
       "<p>12690 rows × 8 columns</p>\n",
       "</div>"
      ],
      "text/plain": [
       "          TITLE  RESTAURANT_ID  CUISINES      TIME      CITY  LOCALITY  \\\n",
       "0     -0.868887       0.372692  0.325408 -0.584658  2.117762 -0.920549   \n",
       "1     -0.807839       1.207377 -1.616381  0.934369 -0.897082  0.986239   \n",
       "2     -0.868887       0.700572  0.615265 -0.688048 -0.897082  1.124048   \n",
       "3      1.084647      -0.313702  1.573701 -1.199692  0.949957 -1.293888   \n",
       "4     -0.288931       1.693314 -0.389682 -0.749021  0.949957 -0.081161   \n",
       "...         ...            ...       ...       ...       ...       ...   \n",
       "12685  1.084647       1.214036  0.580382 -0.047829 -0.134433 -0.777728   \n",
       "12686 -0.807839       0.427746 -0.076570 -0.004088  0.949957 -1.301405   \n",
       "12687  0.352072       0.748966 -0.122250 -0.057108  1.152535  1.727906   \n",
       "12688 -0.868887      -0.360764  1.055448  0.870745 -0.897082 -0.053599   \n",
       "12689 -0.868887      -0.295055  0.590349 -0.457410 -0.134433  1.705355   \n",
       "\n",
       "         RATING     VOTES  \n",
       "0     -0.290547  0.593884  \n",
       "1      0.680153 -0.085891  \n",
       "2      0.033020 -0.579143  \n",
       "3      0.518369 -0.423707  \n",
       "4      0.033020 -1.080685  \n",
       "...         ...       ...  \n",
       "12685  0.033020  0.741031  \n",
       "12686  0.841936 -1.658909  \n",
       "12687  0.356586  0.904757  \n",
       "12688 -0.452330  0.009443  \n",
       "12689 -0.614114  1.064339  \n",
       "\n",
       "[12690 rows x 8 columns]"
      ]
     },
     "execution_count": 71,
     "metadata": {},
     "output_type": "execute_result"
    }
   ],
   "source": [
    "from sklearn.preprocessing import StandardScaler\n",
    "scaler = StandardScaler()\n",
    "df1 = pd.DataFrame(scaler.fit_transform(x), columns = x.columns)\n",
    "df1"
   ]
  },
  {
   "cell_type": "code",
   "execution_count": 72,
   "id": "f4176333",
   "metadata": {},
   "outputs": [
    {
     "data": {
      "text/plain": [
       "array([2.87586915, 3.11595896, 2.87795704, ..., 3.35434976, 2.87586915,\n",
       "       2.87586915])"
      ]
     },
     "execution_count": 72,
     "metadata": {},
     "output_type": "execute_result"
    }
   ],
   "source": [
    "model = joblib.load(\"Reataurant.pkl\")\n",
    "\n",
    "prediction = model.predict(df1)\n",
    "prediction"
   ]
  },
  {
   "cell_type": "code",
   "execution_count": 74,
   "id": "5ee2e1fe",
   "metadata": {},
   "outputs": [
    {
     "data": {
      "text/html": [
       "<div>\n",
       "<style scoped>\n",
       "    .dataframe tbody tr th:only-of-type {\n",
       "        vertical-align: middle;\n",
       "    }\n",
       "\n",
       "    .dataframe tbody tr th {\n",
       "        vertical-align: top;\n",
       "    }\n",
       "\n",
       "    .dataframe thead th {\n",
       "        text-align: right;\n",
       "    }\n",
       "</style>\n",
       "<table border=\"1\" class=\"dataframe\">\n",
       "  <thead>\n",
       "    <tr style=\"text-align: right;\">\n",
       "      <th></th>\n",
       "      <th>TITLE</th>\n",
       "      <th>RESTAURANT_ID</th>\n",
       "      <th>CUISINES</th>\n",
       "      <th>TIME</th>\n",
       "      <th>CITY</th>\n",
       "      <th>LOCALITY</th>\n",
       "      <th>RATING</th>\n",
       "      <th>VOTES</th>\n",
       "      <th>COST</th>\n",
       "    </tr>\n",
       "  </thead>\n",
       "  <tbody>\n",
       "    <tr>\n",
       "      <th>0</th>\n",
       "      <td>-0.868887</td>\n",
       "      <td>0.372692</td>\n",
       "      <td>0.325408</td>\n",
       "      <td>-0.584658</td>\n",
       "      <td>2.117762</td>\n",
       "      <td>-0.920549</td>\n",
       "      <td>-0.290547</td>\n",
       "      <td>0.593884</td>\n",
       "      <td>2.875869</td>\n",
       "    </tr>\n",
       "    <tr>\n",
       "      <th>1</th>\n",
       "      <td>-0.807839</td>\n",
       "      <td>1.207377</td>\n",
       "      <td>-1.616381</td>\n",
       "      <td>0.934369</td>\n",
       "      <td>-0.897082</td>\n",
       "      <td>0.986239</td>\n",
       "      <td>0.680153</td>\n",
       "      <td>-0.085891</td>\n",
       "      <td>3.115959</td>\n",
       "    </tr>\n",
       "    <tr>\n",
       "      <th>2</th>\n",
       "      <td>-0.868887</td>\n",
       "      <td>0.700572</td>\n",
       "      <td>0.615265</td>\n",
       "      <td>-0.688048</td>\n",
       "      <td>-0.897082</td>\n",
       "      <td>1.124048</td>\n",
       "      <td>0.033020</td>\n",
       "      <td>-0.579143</td>\n",
       "      <td>2.877957</td>\n",
       "    </tr>\n",
       "    <tr>\n",
       "      <th>3</th>\n",
       "      <td>1.084647</td>\n",
       "      <td>-0.313702</td>\n",
       "      <td>1.573701</td>\n",
       "      <td>-1.199692</td>\n",
       "      <td>0.949957</td>\n",
       "      <td>-1.293888</td>\n",
       "      <td>0.518369</td>\n",
       "      <td>-0.423707</td>\n",
       "      <td>2.591473</td>\n",
       "    </tr>\n",
       "    <tr>\n",
       "      <th>4</th>\n",
       "      <td>-0.288931</td>\n",
       "      <td>1.693314</td>\n",
       "      <td>-0.389682</td>\n",
       "      <td>-0.749021</td>\n",
       "      <td>0.949957</td>\n",
       "      <td>-0.081161</td>\n",
       "      <td>0.033020</td>\n",
       "      <td>-1.080685</td>\n",
       "      <td>2.733760</td>\n",
       "    </tr>\n",
       "    <tr>\n",
       "      <th>...</th>\n",
       "      <td>...</td>\n",
       "      <td>...</td>\n",
       "      <td>...</td>\n",
       "      <td>...</td>\n",
       "      <td>...</td>\n",
       "      <td>...</td>\n",
       "      <td>...</td>\n",
       "      <td>...</td>\n",
       "      <td>...</td>\n",
       "    </tr>\n",
       "    <tr>\n",
       "      <th>12685</th>\n",
       "      <td>1.084647</td>\n",
       "      <td>1.214036</td>\n",
       "      <td>0.580382</td>\n",
       "      <td>-0.047829</td>\n",
       "      <td>-0.134433</td>\n",
       "      <td>-0.777728</td>\n",
       "      <td>0.033020</td>\n",
       "      <td>0.741031</td>\n",
       "      <td>2.655639</td>\n",
       "    </tr>\n",
       "    <tr>\n",
       "      <th>12686</th>\n",
       "      <td>-0.807839</td>\n",
       "      <td>0.427746</td>\n",
       "      <td>-0.076570</td>\n",
       "      <td>-0.004088</td>\n",
       "      <td>0.949957</td>\n",
       "      <td>-1.301405</td>\n",
       "      <td>0.841936</td>\n",
       "      <td>-1.658909</td>\n",
       "      <td>3.131351</td>\n",
       "    </tr>\n",
       "    <tr>\n",
       "      <th>12687</th>\n",
       "      <td>0.352072</td>\n",
       "      <td>0.748966</td>\n",
       "      <td>-0.122250</td>\n",
       "      <td>-0.057108</td>\n",
       "      <td>1.152535</td>\n",
       "      <td>1.727906</td>\n",
       "      <td>0.356586</td>\n",
       "      <td>0.904757</td>\n",
       "      <td>3.354350</td>\n",
       "    </tr>\n",
       "    <tr>\n",
       "      <th>12688</th>\n",
       "      <td>-0.868887</td>\n",
       "      <td>-0.360764</td>\n",
       "      <td>1.055448</td>\n",
       "      <td>0.870745</td>\n",
       "      <td>-0.897082</td>\n",
       "      <td>-0.053599</td>\n",
       "      <td>-0.452330</td>\n",
       "      <td>0.009443</td>\n",
       "      <td>2.875869</td>\n",
       "    </tr>\n",
       "    <tr>\n",
       "      <th>12689</th>\n",
       "      <td>-0.868887</td>\n",
       "      <td>-0.295055</td>\n",
       "      <td>0.590349</td>\n",
       "      <td>-0.457410</td>\n",
       "      <td>-0.134433</td>\n",
       "      <td>1.705355</td>\n",
       "      <td>-0.614114</td>\n",
       "      <td>1.064339</td>\n",
       "      <td>2.875869</td>\n",
       "    </tr>\n",
       "  </tbody>\n",
       "</table>\n",
       "<p>12690 rows × 9 columns</p>\n",
       "</div>"
      ],
      "text/plain": [
       "          TITLE  RESTAURANT_ID  CUISINES      TIME      CITY  LOCALITY  \\\n",
       "0     -0.868887       0.372692  0.325408 -0.584658  2.117762 -0.920549   \n",
       "1     -0.807839       1.207377 -1.616381  0.934369 -0.897082  0.986239   \n",
       "2     -0.868887       0.700572  0.615265 -0.688048 -0.897082  1.124048   \n",
       "3      1.084647      -0.313702  1.573701 -1.199692  0.949957 -1.293888   \n",
       "4     -0.288931       1.693314 -0.389682 -0.749021  0.949957 -0.081161   \n",
       "...         ...            ...       ...       ...       ...       ...   \n",
       "12685  1.084647       1.214036  0.580382 -0.047829 -0.134433 -0.777728   \n",
       "12686 -0.807839       0.427746 -0.076570 -0.004088  0.949957 -1.301405   \n",
       "12687  0.352072       0.748966 -0.122250 -0.057108  1.152535  1.727906   \n",
       "12688 -0.868887      -0.360764  1.055448  0.870745 -0.897082 -0.053599   \n",
       "12689 -0.868887      -0.295055  0.590349 -0.457410 -0.134433  1.705355   \n",
       "\n",
       "         RATING     VOTES      COST  \n",
       "0     -0.290547  0.593884  2.875869  \n",
       "1      0.680153 -0.085891  3.115959  \n",
       "2      0.033020 -0.579143  2.877957  \n",
       "3      0.518369 -0.423707  2.591473  \n",
       "4      0.033020 -1.080685  2.733760  \n",
       "...         ...       ...       ...  \n",
       "12685  0.033020  0.741031  2.655639  \n",
       "12686  0.841936 -1.658909  3.131351  \n",
       "12687  0.356586  0.904757  3.354350  \n",
       "12688 -0.452330  0.009443  2.875869  \n",
       "12689 -0.614114  1.064339  2.875869  \n",
       "\n",
       "[12690 rows x 9 columns]"
      ]
     },
     "execution_count": 74,
     "metadata": {},
     "output_type": "execute_result"
    }
   ],
   "source": [
    "df1['COST'] = prediction\n",
    "df1"
   ]
  }
 ],
 "metadata": {
  "kernelspec": {
   "display_name": "Python 3 (ipykernel)",
   "language": "python",
   "name": "python3"
  },
  "language_info": {
   "codemirror_mode": {
    "name": "ipython",
    "version": 3
   },
   "file_extension": ".py",
   "mimetype": "text/x-python",
   "name": "python",
   "nbconvert_exporter": "python",
   "pygments_lexer": "ipython3",
   "version": "3.11.4"
  }
 },
 "nbformat": 4,
 "nbformat_minor": 5
}
